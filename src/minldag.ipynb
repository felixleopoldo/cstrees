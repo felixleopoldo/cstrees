{
 "cells": [
  {
   "cell_type": "code",
   "execution_count": null,
   "metadata": {},
   "outputs": [],
   "source": [
    "%load_ext autoreload\n",
    "%autoreload 2\n",
    "\n",
    "import cstrees.cstree as ct\n",
    "import numpy as np\n",
    "import networkx as nx\n",
    "import itertools\n",
    "# CStree from Figure 1 in (Duarte & Solus, 2022)\n",
    "np.random.seed(1)\n"
   ]
  },
  {
   "cell_type": "code",
   "execution_count": null,
   "metadata": {},
   "outputs": [],
   "source": [
    "p=4\n",
    "co = ct.CausalOrder(range(1, p+1))\n",
    "tree = ct.CStree(co)\n",
    "cards = [2] * p\n",
    "\n",
    "#stage = ct.sample_random_stage(cards,2)\n",
    "#stage.set_random_params(cards)\n",
    "\n",
    "tree.set_cardinalities([None] + cards)\n",
    "\n",
    "# These do not have to be in a dict like this as the levels are\n",
    "# determined from the length of the tuples.\n",
    "\n",
    "tree.add_stages({\n",
    "    0: [],\n",
    "    1: [],\n",
    "    2: [ct.Stage([[0, 1], 0])],    # Green\n",
    "    3: [ct.Stage([0, [0, 1], 0]),  # Blue\n",
    "        ct.Stage([0, [0, 1], 1]),  # Orange\n",
    "        ct.Stage([1, [0, 1], 0])]  # Red\n",
    "})\n",
    "\n",
    "tree.set_random_stage_parameters()\n"
   ]
  },
  {
   "cell_type": "code",
   "execution_count": null,
   "metadata": {},
   "outputs": [],
   "source": [
    "cdags = tree.to_minimal_context_graphs()"
   ]
  },
  {
   "cell_type": "code",
   "execution_count": null,
   "metadata": {},
   "outputs": [],
   "source": [
    "a = None\n",
    "for key, graph in cdags.items():\n",
    "    agraph = nx.nx_agraph.to_agraph(graph)\n",
    "    agraph.layout(\"dot\")\n",
    "    #agraph.draw(args=\"-Glabel=\"+str(key)+\"    \")\n",
    "    #a = agraph\n",
    "    #print(key)\n",
    "    agraph.draw(\"minl_cont_dag_\"+str(key) + \".png\", args=\"-Glabel=\"+str(key)+\"    \")\n"
   ]
  },
  {
   "cell_type": "code",
   "execution_count": null,
   "metadata": {},
   "outputs": [],
   "source": [
    "a"
   ]
  },
  {
   "cell_type": "code",
   "execution_count": null,
   "metadata": {},
   "outputs": [],
   "source": [
    "a = tree.plot()\n",
    "#a.draw(\"testplot.png\")\n",
    "\n",
    "x = tree.sample(5)\n",
    "# print(x)\n",
    "a"
   ]
  },
  {
   "cell_type": "code",
   "execution_count": null,
   "metadata": {},
   "outputs": [],
   "source": [
    "rels = tree.csi_relations()\n",
    "print(\"Initial rels\")\n",
    "print(rels)\n",
    "graphs = ct.csi_relations_to_dags(rels, co)\n",
    "\n",
    "i = 1\n",
    "for key, graph in graphs.items():\n",
    "    agraph = nx.nx_agraph.to_agraph(graph)\n",
    "    agraph.layout(\"dot\")\n",
    "    agraph.draw(str(key) + \"_csi.png\", args='-Glabel=\"'+str(key)+'\"   ')\n",
    "    i += 1\n"
   ]
  }
 ],
 "metadata": {
  "kernelspec": {
   "display_name": "cstree_env",
   "language": "python",
   "name": "python3"
  },
  "language_info": {
   "codemirror_mode": {
    "name": "ipython",
    "version": 3
   },
   "file_extension": ".py",
   "mimetype": "text/x-python",
   "name": "python",
   "nbconvert_exporter": "python",
   "pygments_lexer": "ipython3",
   "version": "3.9.12"
  },
  "orig_nbformat": 4,
  "vscode": {
   "interpreter": {
    "hash": "e40745d7cc8d515702a8d40c3045bcc6e06a658c4521ba1195841f1515fd2c5c"
   }
  }
 },
 "nbformat": 4,
 "nbformat_minor": 2
}
