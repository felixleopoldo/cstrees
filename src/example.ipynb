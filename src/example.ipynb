{
 "cells": [
  {
   "cell_type": "code",
   "execution_count": null,
   "metadata": {},
   "outputs": [],
   "source": [
    "%load_ext autoreload\n",
    "%autoreload 2\n",
    "\n",
    "import cstrees.cstree as ct\n",
    "import numpy as np\n",
    "import networkx as nx\n",
    "import random\n",
    "import pandas as pd"
   ]
  },
  {
   "cell_type": "code",
   "execution_count": null,
   "metadata": {},
   "outputs": [],
   "source": [
    "import numpy as np\n",
    "np.random.seed(3)\n",
    "p = 5\n",
    "co = ct.CausalOrder(range(1, p+1))\n",
    "tree = ct.CStree(co)\n",
    "cards = [2] * p\n",
    "tree.set_cardinalities([None] + cards)\n",
    "\n",
    "stage = ct.sample_random_stage(cards, 3)\n",
    "stage.set_random_params(cards)\n",
    "\n",
    "stage.color = \"red\"\n",
    "print(stage)\n",
    "\n",
    "tree.set_stages({3:[stage]}) # should it have to be l\n",
    "x = tree.sample(100)\n",
    "#print(x)\n",
    "a = tree.plot()\n",
    "a"
   ]
  },
  {
   "cell_type": "code",
   "execution_count": null,
   "metadata": {},
   "outputs": [],
   "source": []
  },
  {
   "cell_type": "code",
   "execution_count": null,
   "metadata": {},
   "outputs": [],
   "source": [
    "cdags = tree.to_minimal_context_graphs()\n",
    "for key, graph in cdags.items():\n",
    "    agraph = nx.nx_agraph.to_agraph(graph)\n",
    "    agraph.layout(\"dot\")\n",
    "    agraph.draw(\"minl_cont_dag_\"+str(key) + \".png\", args=\"-Glabel=\"+str(key)+\"    \")"
   ]
  },
  {
   "cell_type": "code",
   "execution_count": null,
   "metadata": {},
   "outputs": [],
   "source": [
    "tree.to_df()"
   ]
  },
  {
   "cell_type": "code",
   "execution_count": null,
   "metadata": {},
   "outputs": [],
   "source": [
    "x = tree.sample(10)\n",
    "print(x)\n",
    "a = tree.plot()\n",
    "a"
   ]
  },
  {
   "cell_type": "code",
   "execution_count": 59,
   "metadata": {},
   "outputs": [
    {
     "name": "stdout",
     "output_type": "stream",
     "text": [
      "X2 ⊥  X4, X1=0, X3=1; probs: [0.01474321 0.98525679]\n",
      "X2 ⊥  X4, X1=0, X3=0; probs: [0.82656561 0.17343439]\n",
      "X2, X3 ⊥  X4, X1=1; probs: [0.38330143 0.61669857]\n",
      "X3 ⊥  X5, X1=0, X2=0, X4=0; probs: [0.65532527 0.34467473]\n",
      "X1, X3, X4 ⊥  X5, X2=1; probs: [0.17159762 0.82840238]\n",
      "5\n"
     ]
    }
   ],
   "source": [
    "seed=9\n",
    "np.random.seed(seed)#9\n",
    "random.seed(seed)\n",
    "\n",
    "p = 10\n",
    "t = ct.sample_cstree(p)\n",
    "\n",
    "np.random.seed(seed)#9\n",
    "random.seed(seed)\n",
    "\n",
    "t.set_random_stage_parameters()\n",
    "\n",
    "ns = 0\n",
    "for l, sl in t.stages.items():\n",
    "    for s in sl:\n",
    "        ns+=1\n",
    "        print(s)\n",
    "print(ns)\n",
    "#t.sample(5)\n",
    "\n",
    "df = t.to_df()\n",
    "df.to_csv(\"test.csv\", index=False)\n",
    "#t.plot()"
   ]
  },
  {
   "cell_type": "code",
   "execution_count": 61,
   "metadata": {},
   "outputs": [
    {
     "name": "stdout",
     "output_type": "stream",
     "text": [
      "X2 ⊥ X4 | X1, X3\n",
      "X2 ⊥ X4 | X1, X3\n",
      "X3 ⊥ X4 | X2, X1=1\n",
      "X3 ⊥ X5 | X1, X4, X2=1\n",
      "X1 ⊥ X5 | X3, X4, X2=1\n",
      "X4 ⊥ X5 | X1, X3, X2=1\n",
      "X3 ⊥ X5 | X2, X1=0, X4=0\n"
     ]
    }
   ],
   "source": [
    "cdags = t.to_minimal_context_graphs()\n",
    "for key, graph in cdags.items():\n",
    "    agraph = nx.nx_agraph.to_agraph(graph)\n",
    "    agraph.layout(\"dot\")\n",
    "    agraph.draw(\"minl_cont_dag_\"+str(key) + \".png\")#, args=\"-Glabel=\"+str(key)+\"    \")"
   ]
  },
  {
   "cell_type": "code",
   "execution_count": null,
   "metadata": {},
   "outputs": [],
   "source": []
  },
  {
   "cell_type": "code",
   "execution_count": null,
   "metadata": {},
   "outputs": [],
   "source": [
    "df = pd.read_csv(\"test.csv\", header=[0,1])\n",
    "\n",
    "tt = ct.df_to_cstree(df)\n",
    "np.random.seed(seed)#9\n",
    "random.seed(seed)\n",
    "\n",
    "tt.set_random_stage_parameters()\n",
    "for l, sl in tt.stages.items():\n",
    "    for s in sl:\n",
    "        ns+=1\n",
    "        print(s)\n",
    "tt.sample(5)\n",
    "tt.plot()"
   ]
  },
  {
   "cell_type": "code",
   "execution_count": null,
   "metadata": {},
   "outputs": [],
   "source": [
    "t.sample(5)\n",
    "a = t.plot()\n",
    "a\n"
   ]
  },
  {
   "cell_type": "code",
   "execution_count": null,
   "metadata": {},
   "outputs": [],
   "source": [
    "csis = t.csi_relations()\n",
    "for key, val in csis.items():\n",
    "    print(\"Context: {}\".format(key))\n",
    "    for v in val:\n",
    "        print()\n",
    "        print(v.ci)\n",
    "        print(\"From decomposition:\")\n",
    "        for x in ct.decomposition(v.ci):\n",
    "            print(str(x))\n",
    "        print(\"From weak union:\")\n",
    "        for x in ct.weak_union(v.ci):\n",
    "            print(str(x))\n",
    "    print(\"\")"
   ]
  },
  {
   "cell_type": "code",
   "execution_count": null,
   "metadata": {},
   "outputs": [],
   "source": [
    "co = t.co\n",
    "adjmats = ct.csi_relations_to_dags(csis, co)\n",
    "graphs=[(key,graph) for key, graph in adjmats.items()]"
   ]
  },
  {
   "cell_type": "code",
   "execution_count": null,
   "metadata": {},
   "outputs": [],
   "source": [
    "print(\"Context: {}\".format(graphs[0][0]))\n",
    "\n",
    "ct.plot(graphs[0][1])\n"
   ]
  },
  {
   "cell_type": "code",
   "execution_count": null,
   "metadata": {},
   "outputs": [],
   "source": [
    "print(\"Context: {}\".format(graphs[1][0]))\n",
    "ct.plot(graphs[1][1])"
   ]
  },
  {
   "cell_type": "code",
   "execution_count": null,
   "metadata": {},
   "outputs": [],
   "source": [
    "print(\"Context: {}\".format(graphs[2][0]))\n",
    "\n",
    "\n",
    "ct.plot(graphs[2][1])"
   ]
  },
  {
   "cell_type": "code",
   "execution_count": null,
   "metadata": {},
   "outputs": [],
   "source": [
    "t.sample(10)"
   ]
  }
 ],
 "metadata": {
  "kernelspec": {
   "display_name": "Python 3.9.12 ('cstree_env': venv)",
   "language": "python",
   "name": "python3"
  },
  "language_info": {
   "codemirror_mode": {
    "name": "ipython",
    "version": 3
   },
   "file_extension": ".py",
   "mimetype": "text/x-python",
   "name": "python",
   "nbconvert_exporter": "python",
   "pygments_lexer": "ipython3",
   "version": "3.9.12"
  },
  "orig_nbformat": 4,
  "vscode": {
   "interpreter": {
    "hash": "e40745d7cc8d515702a8d40c3045bcc6e06a658c4521ba1195841f1515fd2c5c"
   }
  }
 },
 "nbformat": 4,
 "nbformat_minor": 2
}
