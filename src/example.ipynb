{
 "cells": [
  {
   "cell_type": "code",
   "execution_count": null,
   "metadata": {},
   "outputs": [],
   "source": [
    "import time\n",
    "import pandas as pd\n",
    "import random\n",
    "import networkx as nx\n",
    "import numpy as np\n",
    "import cstrees.cstree as ct\n",
    "%load_ext autoreload\n",
    "%autoreload 2\n"
   ]
  },
  {
   "cell_type": "code",
   "execution_count": null,
   "metadata": {},
   "outputs": [],
   "source": [
    "import numpy as np\n",
    "np.random.seed()\n",
    "p = 5\n",
    "co = ct.CausalOrder(range(1, p+1))\n",
    "tree = ct.CStree(co)\n",
    "cards = [2] * p\n",
    "tree.set_cardinalities([None] + cards)\n",
    "\n",
    "stage = ct.sample_random_stage(cards, level=3, max_contextvars=3, prob=0.99)\n",
    "stage.set_random_params(cards)\n",
    "\n",
    "stage.color = \"red\"\n",
    "print(stage)\n",
    "\n",
    "tree.set_stages({3: [stage]})  # should it have to be l\n",
    "x = tree.sample(100)\n",
    "# print(x)\n",
    "a = tree.plot()\n",
    "a\n"
   ]
  },
  {
   "cell_type": "code",
   "execution_count": null,
   "metadata": {},
   "outputs": [],
   "source": [
    "np.random.choice(2, 2, replace=False)\n"
   ]
  },
  {
   "cell_type": "code",
   "execution_count": null,
   "metadata": {},
   "outputs": [],
   "source": []
  },
  {
   "cell_type": "code",
   "execution_count": null,
   "metadata": {},
   "outputs": [],
   "source": [
    "cdags = tree.to_minimal_context_graphs()\n",
    "for key, graph in cdags.items():\n",
    "    agraph = nx.nx_agraph.to_agraph(graph)\n",
    "    agraph.layout(\"dot\")\n",
    "    agraph.draw(\"minl_cont_dag_\"+str(key) + \".png\",\n",
    "                args=\"-Glabel=\"+str(key)+\"    \")\n"
   ]
  },
  {
   "cell_type": "code",
   "execution_count": null,
   "metadata": {},
   "outputs": [],
   "source": [
    "x = tree.sample(10)\n",
    "print(x)\n",
    "a = tree.plot()\n",
    "a\n"
   ]
  },
  {
   "cell_type": "code",
   "execution_count": null,
   "metadata": {},
   "outputs": [],
   "source": [
    "\n",
    "# seed=10\n",
    "# np.random.seed(seed)#9\n",
    "# random.seed(seed)\n",
    "\n",
    "p = 5\n",
    "t = ct.sample_cstree(p, max_contextvars=3, prob=0.9)\n",
    "\n",
    "np.random.seed(seed)  # 9\n",
    "random.seed(seed)\n",
    "\n",
    "t.set_random_stage_parameters()\n",
    "\n",
    "ns = 0\n",
    "for l, sl in t.stages.items():\n",
    "    for s in sl:\n",
    "        ns += 1\n",
    "        print(s)\n",
    "print(ns)\n",
    "# t.sample(5)\n",
    "\n",
    "df = t.to_df()\n",
    "df.to_csv(\"test.csv\", index=False)\n",
    "# t.plot()\n"
   ]
  },
  {
   "cell_type": "code",
   "execution_count": null,
   "metadata": {},
   "outputs": [],
   "source": [
    "cdags = t.to_minimal_context_graphs()\n"
   ]
  },
  {
   "cell_type": "code",
   "execution_count": null,
   "metadata": {},
   "outputs": [],
   "source": [
    "\n",
    "for key, graph in cdags.items():\n",
    "    agraph = nx.nx_agraph.to_agraph(graph)\n",
    "    agraph.layout(\"dot\")\n",
    "    # , args=\"-Glabel=\"+str(key)+\"    \")\n",
    "    agraph.draw(\"figures/minl_cont_dag_\"+str(key) + \".png\")\n"
   ]
  },
  {
   "cell_type": "code",
   "execution_count": null,
   "metadata": {},
   "outputs": [],
   "source": [
    "a = [1, 2, 3, 5, 6]\n",
    "for x in a:\n",
    "    print(x)\n",
    "    if x > 3:\n",
    "        a.remove(x)\n",
    "a\n"
   ]
  },
  {
   "cell_type": "code",
   "execution_count": null,
   "metadata": {},
   "outputs": [],
   "source": [
    "import logging\n",
    "import sys\n",
    "logging.basicConfig(stream=sys.stderr, level=logging.DEBUG)\n",
    "\n",
    "seed = 1\n",
    "np.random.seed(seed)  # 9\n",
    "random.seed(seed)\n",
    "ps = range(15, 25, 5)\n",
    "maxs = range(1, 4)\n",
    "\n",
    "df = pd.DataFrame(columns=[\"p\", \"contvars\", \"time\"])\n",
    "\n",
    "for m in maxs:\n",
    "    print(m)\n",
    "    for p in ps:\n",
    "        sample_times = []\n",
    "        to_mindag_times = []\n",
    "        print(p)\n",
    "        start = time.perf_counter()\n",
    "        print(\"Sample tree\")\n",
    "        t = ct.sample_cstree(p, max_contextvars=m, prob=1)\n",
    "        t.set_random_stage_parameters()\n",
    "        stop = time.perf_counter()\n",
    "        sample_times.append(stop - start)\n",
    "        start = time.perf_counter()\n",
    "        print(\"Minl dags\")\n",
    "        cdags = t.to_minimal_context_graphs()\n",
    "        stop = time.perf_counter()\n",
    "\n",
    "        tmp = pd.DataFrame({\"p\": [p], \"contvars\": [m], \"time\": [stop-start]})\n",
    "\n",
    "        df = pd.concat([df, tmp])\n",
    "        to_mindag_times.append(stop - start)\n",
    "\n",
    "        print(stop-start)\n",
    "\n",
    "\n",
    "print(df)\n"
   ]
  },
  {
   "cell_type": "code",
   "execution_count": null,
   "metadata": {},
   "outputs": [],
   "source": [
    "df\n"
   ]
  },
  {
   "cell_type": "code",
   "execution_count": null,
   "metadata": {},
   "outputs": [],
   "source": [
    "df = pd.read_csv(\"test.csv\", header=[0, 1])\n",
    "\n",
    "tt = ct.df_to_cstree(df)\n",
    "np.random.seed(seed)  # 9\n",
    "random.seed(seed)\n",
    "\n",
    "tt.set_random_stage_parameters()\n",
    "for l, sl in tt.stages.items():\n",
    "    for s in sl:\n",
    "        ns += 1\n",
    "        print(s)\n",
    "tt.sample(5)\n",
    "tt.plot()\n"
   ]
  },
  {
   "cell_type": "code",
   "execution_count": null,
   "metadata": {},
   "outputs": [],
   "source": [
    "t.sample(5)\n",
    "a = t.plot()\n",
    "a\n"
   ]
  },
  {
   "cell_type": "code",
   "execution_count": null,
   "metadata": {},
   "outputs": [],
   "source": [
    "csis = t.csi_relations()\n",
    "for key, val in csis.items():\n",
    "    print(\"Context: {}\".format(key))\n",
    "    for v in val:\n",
    "        print()\n",
    "        print(v.ci)\n",
    "        print(\"From decomposition:\")\n",
    "        for x in ct.decomposition(v.ci):\n",
    "            print(str(x))\n",
    "        print(\"From weak union:\")\n",
    "        for x in ct.weak_union(v.ci):\n",
    "            print(str(x))\n",
    "    print(\"\")\n"
   ]
  },
  {
   "cell_type": "code",
   "execution_count": null,
   "metadata": {},
   "outputs": [],
   "source": [
    "co = t.co\n",
    "adjmats = ct.csi_relations_to_dags(csis, co)\n",
    "graphs = [(key, graph) for key, graph in adjmats.items()]\n"
   ]
  },
  {
   "cell_type": "code",
   "execution_count": 39,
   "metadata": {},
   "outputs": [
    {
     "name": "stderr",
     "output_type": "stream",
     "text": [
      "DEBUG:root:Max # stages with 1 context variables: 2\n",
      "DEBUG:root:Trying to add max of 1 stages\n",
      "DEBUG:root:Added 1 stages\n",
      "DEBUG:root:Max # stages with 2 context variables: 4\n",
      "DEBUG:root:Trying to add max of 1 stages\n",
      "DEBUG:root:Added 1 stages\n",
      "DEBUG:root:Max # stages with 3 context variables: 8\n",
      "DEBUG:root:Trying to add max of 1 stages\n",
      "DEBUG:root:Added 1 stages\n",
      "DEBUG:root:Max # stages with 3 context variables: 32\n",
      "DEBUG:root:Trying to add max of 4 stages\n",
      "DEBUG:root:Added 4 stages\n",
      "DEBUG:root:Max # stages with 3 context variables: 80\n",
      "DEBUG:root:Trying to add max of 8 stages\n"
     ]
    },
    {
     "ename": "KeyboardInterrupt",
     "evalue": "",
     "output_type": "error",
     "traceback": [
      "\u001b[0;31m---------------------------------------------------------------------------\u001b[0m",
      "\u001b[0;31mKeyboardInterrupt\u001b[0m                         Traceback (most recent call last)",
      "Cell \u001b[0;32mIn [39], line 3\u001b[0m\n\u001b[1;32m      1\u001b[0m p \u001b[39m=\u001b[39m \u001b[39m10\u001b[39m\n\u001b[0;32m----> 3\u001b[0m t \u001b[39m=\u001b[39m ct\u001b[39m.\u001b[39msample_cstree(p, max_contextvars\u001b[39m=\u001b[39m\u001b[39m3\u001b[39m, prob_contextvar\u001b[39m=\u001b[39m\u001b[39m1\u001b[39m, frac_stages_per_level\u001b[39m=\u001b[39m\u001b[39m0.1\u001b[39m)\n\u001b[1;32m      5\u001b[0m \u001b[39mprint\u001b[39m(t)\n",
      "File \u001b[0;32m/afs/kth.se/home/f/l/flrios/git/CStrees/src/cstrees/cstree.py:806\u001b[0m, in \u001b[0;36msample_cstree\u001b[0;34m(p, max_contextvars, prob_contextvar, frac_stages_per_level)\u001b[0m\n\u001b[1;32m    803\u001b[0m         j \u001b[39m=\u001b[39m \u001b[39m0\u001b[39m\n\u001b[1;32m    804\u001b[0m         \u001b[39mwhile\u001b[39;00m j \u001b[39m<\u001b[39m m:\n\u001b[1;32m    805\u001b[0m \u001b[39m#        for i in range(m):  # Maxl number of stages. Number of trees (stages?) increases as O(p*level).            \u001b[39;00m\n\u001b[0;32m--> 806\u001b[0m             s \u001b[39m=\u001b[39m sample_random_stage(cards, level\u001b[39m+\u001b[39;49m\u001b[39m1\u001b[39;49m, max_contextvars, prob_contextvar)\n\u001b[1;32m    807\u001b[0m             \u001b[39m# s.set_random_params(cards)\u001b[39;00m\n\u001b[1;32m    808\u001b[0m             \u001b[39m# Check that no stage intersects with s (they may still be mergeable).\u001b[39;00m\n\u001b[1;32m    809\u001b[0m             \u001b[39mif\u001b[39;00m \u001b[39mall\u001b[39m(\u001b[39mmap\u001b[39m(\u001b[39mlambda\u001b[39;00m x: x\u001b[39m.\u001b[39mintersects(s) \u001b[39mis\u001b[39;00m \u001b[39mFalse\u001b[39;00m, stages[level\u001b[39m+\u001b[39m\u001b[39m1\u001b[39m])):\n",
      "File \u001b[0;32m/afs/kth.se/home/f/l/flrios/git/CStrees/src/cstrees/cstree.py:662\u001b[0m, in \u001b[0;36msample_random_stage\u001b[0;34m(cards, level, max_contextvars, prob)\u001b[0m\n\u001b[1;32m    660\u001b[0m \u001b[39mfor\u001b[39;00m i, _ \u001b[39min\u001b[39;00m \u001b[39menumerate\u001b[39m(cards[:level]):\n\u001b[1;32m    661\u001b[0m     \u001b[39mif\u001b[39;00m i\u001b[39m+\u001b[39m\u001b[39m1\u001b[39m \u001b[39min\u001b[39;00m context_vars:\n\u001b[0;32m--> 662\u001b[0m         vals[i] \u001b[39m=\u001b[39m np\u001b[39m.\u001b[39;49mrandom\u001b[39m.\u001b[39;49mrandint(cards[i])\n\u001b[1;32m    663\u001b[0m     \u001b[39melse\u001b[39;00m:\n\u001b[1;32m    664\u001b[0m         vals[i] \u001b[39m=\u001b[39m \u001b[39mlist\u001b[39m(\u001b[39mrange\u001b[39m(cards[i]))\n",
      "\u001b[0;31mKeyboardInterrupt\u001b[0m: "
     ]
    }
   ],
   "source": [
    "p = 10\n",
    "\n",
    "t = ct.sample_cstree(p, max_contextvars=3,\n",
    "                     prob_contextvar=1, frac_stages_per_level=0.1)\n",
    "\n",
    "print(t)\n"
   ]
  }
 ],
 "metadata": {
  "kernelspec": {
   "display_name": "Python 3.9.12 ('cstree_env': venv)",
   "language": "python",
   "name": "python3"
  },
  "language_info": {
   "codemirror_mode": {
    "name": "ipython",
    "version": 3
   },
   "file_extension": ".py",
   "mimetype": "text/x-python",
   "name": "python",
   "nbconvert_exporter": "python",
   "pygments_lexer": "ipython3",
   "version": "3.9.12"
  },
  "orig_nbformat": 4,
  "vscode": {
   "interpreter": {
    "hash": "e40745d7cc8d515702a8d40c3045bcc6e06a658c4521ba1195841f1515fd2c5c"
   }
  }
 },
 "nbformat": 4,
 "nbformat_minor": 2
}
