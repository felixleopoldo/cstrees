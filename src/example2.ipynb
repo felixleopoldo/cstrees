{
 "cells": [
  {
   "cell_type": "code",
   "execution_count": 1,
   "metadata": {},
   "outputs": [],
   "source": [
    "%load_ext autoreload\n",
    "%autoreload 2\n",
    "\n",
    "import cstrees.cstree as ct\n",
    "import numpy as np\n",
    "import networkx as nx\n",
    "import random\n",
    "import pandas as pd"
   ]
  },
  {
   "cell_type": "code",
   "execution_count": 2,
   "metadata": {},
   "outputs": [
    {
     "ename": "AttributeError",
     "evalue": "module 'cstrees.cstree' has no attribute 'CI_relation'",
     "output_type": "error",
     "traceback": [
      "\u001b[0;31m---------------------------------------------------------------------------\u001b[0m",
      "\u001b[0;31mAttributeError\u001b[0m                            Traceback (most recent call last)",
      "Cell \u001b[0;32mIn[2], line 1\u001b[0m\n\u001b[0;32m----> 1\u001b[0m ci \u001b[39m=\u001b[39m ct\u001b[39m.\u001b[39;49mCI_relation({\u001b[39m2\u001b[39m}, {\u001b[39m5\u001b[39m}, {\u001b[39m4\u001b[39m})\n\u001b[1;32m      2\u001b[0m c \u001b[39m=\u001b[39m ct\u001b[39m.\u001b[39mContext({\u001b[39m1\u001b[39m:\u001b[39m1\u001b[39m, \u001b[39m3\u001b[39m:\u001b[39m0\u001b[39m})\n\u001b[1;32m      3\u001b[0m csi1 \u001b[39m=\u001b[39m ct\u001b[39m.\u001b[39mCSI_relation(ci, c)\n",
      "\u001b[0;31mAttributeError\u001b[0m: module 'cstrees.cstree' has no attribute 'CI_relation'"
     ]
    }
   ],
   "source": [
    "ci = ct.CI_relation({2}, {5}, {4})\n",
    "c = ct.Context({1:1, 3:0})\n",
    "csi1 = ct.CSI_relation(ci, c)\n",
    "\n",
    "ci = ct.CI_relation({2}, {5}, {4})\n",
    "c = ct.Context({1:1, 3:1})\n",
    "csi2 = ct.CSI_relation(ci, c)\n",
    "\n",
    "print(csi1)\n",
    "print(csi2)"
   ]
  },
  {
   "cell_type": "code",
   "execution_count": null,
   "metadata": {},
   "outputs": [
    {
     "name": "stdout",
     "output_type": "stream",
     "text": [
      "[None, {1}, None, {0}, {0, 1}, None]\n",
      "[None, {1}, None, {1}, {0, 1}, None]\n",
      "[{1}, set(), {0, 1}]\n",
      "[[None, {1}, None, {0}, {0, 1}, None], [None, {1}, None, {1}, {0, 1}, None]]\n"
     ]
    }
   ],
   "source": [
    "l1 = csi1.as_list()\n",
    "l2 = csi2.as_list()\n",
    "l = [l1, l2]\n",
    "print(l1)\n",
    "print(l2)\n",
    "r = [set.intersection(*a) for a in zip(*l) if a[0] is not None]\n",
    "print(r)\n",
    "sl = sorted(l, key=lambda x: list(x[3]))\n",
    "print(sl)"
   ]
  },
  {
   "cell_type": "code",
   "execution_count": null,
   "metadata": {},
   "outputs": [
    {
     "data": {
      "text/plain": [
       "[({1}, {1}), ({0}, {1}), ({0, 1}, {0, 1})]"
      ]
     },
     "execution_count": 5,
     "metadata": {},
     "output_type": "execute_result"
    }
   ],
   "source": [
    "[a for a in zip(*l) if a[0] is not None]"
   ]
  },
  {
   "cell_type": "code",
   "execution_count": null,
   "metadata": {},
   "outputs": [
    {
     "name": "stdout",
     "output_type": "stream",
     "text": [
      "X2 ⊥ X5 | X4, X1=1, X3=0\n",
      "X2 ⊥ X5 | X4, X1=1, X3=1\n",
      "[[set(), set()], {1}, [set(), set()], [set(), set()], [set(), set()]]\n",
      "[[set(), set()], {1}, [set(), set()], [set(), set()], [set(), set()]]\n"
     ]
    },
    {
     "ename": "TypeError",
     "evalue": "descriptor 'intersection' for 'set' objects doesn't apply to a 'list' object",
     "output_type": "error",
     "traceback": [
      "\u001b[0;31m---------------------------------------------------------------------------\u001b[0m",
      "\u001b[0;31mTypeError\u001b[0m                                 Traceback (most recent call last)",
      "Cell \u001b[0;32mIn [9], line 1\u001b[0m\n\u001b[0;32m----> 1\u001b[0m a \u001b[39m=\u001b[39m ct\u001b[39m.\u001b[39mabsorb_csis([csi1, csi2], exclude\u001b[39m=\u001b[39m{\u001b[39m4\u001b[39m, \u001b[39m2\u001b[39m})\n\u001b[1;32m      2\u001b[0m \u001b[39mprint\u001b[39m(a)\n",
      "File \u001b[0;32m/afs/kth.se/home/f/l/flrios/git/CStrees/src/cstrees/cstree.py:942\u001b[0m, in \u001b[0;36mabsorb_csis\u001b[0;34m(csis, exclude)\u001b[0m\n\u001b[1;32m    940\u001b[0m             vals[l] \u001b[39m=\u001b[39m {csi\u001b[39m.\u001b[39mcontext[l]}               \n\u001b[1;32m    941\u001b[0m         \u001b[39mprint\u001b[39m(vals)\n\u001b[0;32m--> 942\u001b[0m     intersection \u001b[39m=\u001b[39m \u001b[39mset\u001b[39;49m\u001b[39m.\u001b[39;49mintersection(\u001b[39m*\u001b[39;49mvals)\n\u001b[1;32m    944\u001b[0m \u001b[39mreturn\u001b[39;00m \u001b[39mNone\u001b[39;00m\n",
      "\u001b[0;31mTypeError\u001b[0m: descriptor 'intersection' for 'set' objects doesn't apply to a 'list' object"
     ]
    }
   ],
   "source": [
    "a = ct.absorb_csis([csi1, csi2], exclude={4, 2})\n",
    "print(a)"
   ]
  }
 ],
 "metadata": {
  "kernelspec": {
   "display_name": "cstree_env",
   "language": "python",
   "name": "python3"
  },
  "language_info": {
   "codemirror_mode": {
    "name": "ipython",
    "version": 3
   },
   "file_extension": ".py",
   "mimetype": "text/x-python",
   "name": "python",
   "nbconvert_exporter": "python",
   "pygments_lexer": "ipython3",
   "version": "3.11.4"
  },
  "orig_nbformat": 4,
  "vscode": {
   "interpreter": {
    "hash": "e40745d7cc8d515702a8d40c3045bcc6e06a658c4521ba1195841f1515fd2c5c"
   }
  }
 },
 "nbformat": 4,
 "nbformat_minor": 2
}
