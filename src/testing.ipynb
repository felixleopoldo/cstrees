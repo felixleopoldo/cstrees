{
 "cells": [
  {
   "cell_type": "code",
   "execution_count": 1,
   "metadata": {},
   "outputs": [],
   "source": [
    "import cstrees.cstree as ct\n",
    "import numpy as np\n",
    "import networkx as nx\n",
    "import itertools\n",
    "# CStree from Figure 1 in (Duarte & Solus, 2022)\n",
    "np.random.seed(1)"
   ]
  },
  {
   "cell_type": "code",
   "execution_count": 6,
   "metadata": {},
   "outputs": [
    {
     "name": "stdout",
     "output_type": "stream",
     "text": [
      "[((), (1,)), ((), (0,)), ((1,), (1, 1)), ((1,), (1, 0)), ((1, 1), (1, 1, 1)), ((1, 1), (1, 1, 0)), ((1, 1, 1), (1, 1, 1, 1)), ((1, 1, 1), (1, 1, 1, 0)), ((1, 1, 0), (1, 1, 0, 1)), ((1, 1, 0), (1, 1, 0, 0)), ((1, 0), (1, 0, 1)), ((1, 0), (1, 0, 0)), ((1, 0, 1), (1, 0, 1, 1)), ((1, 0, 1), (1, 0, 1, 0)), ((1, 0, 0), (1, 0, 0, 1)), ((1, 0, 0), (1, 0, 0, 0)), ((0,), (0, 1)), ((0,), (0, 0)), ((0, 1), (0, 1, 1)), ((0, 1), (0, 1, 0)), ((0, 1, 1), (0, 1, 1, 1)), ((0, 1, 1), (0, 1, 1, 0)), ((0, 1, 0), (0, 1, 0, 1)), ((0, 1, 0), (0, 1, 0, 0)), ((0, 0), (0, 0, 1)), ((0, 0), (0, 0, 0)), ((0, 0, 1), (0, 0, 1, 1)), ((0, 0, 1), (0, 0, 1, 0)), ((0, 0, 0), (0, 0, 0, 1)), ((0, 0, 0), (0, 0, 0, 0))]\n",
      "[(1,), (0,)]\n",
      "[0.02440535 0.97559465]\n",
      "[(1, 1), (1, 0)]\n",
      "[0.39768183 0.60231817]\n",
      "[(1, 1, 1), (1, 1, 0)]\n",
      "[0.4065972 0.5934028]\n",
      "[(1, 1, 1, 1), (1, 1, 1, 0)]\n",
      "[0.31859409 0.68140591]\n",
      "[(1, 1, 0, 1), (1, 1, 0, 0)]\n",
      "[0.24186559 0.75813441]\n",
      "[(1, 0, 1), (1, 0, 0)]\n",
      "[0.48163431 0.51836569]\n",
      "[(1, 0, 1, 1), (1, 0, 1, 0)]\n",
      "[0.69050125 0.30949875]\n",
      "[(1, 0, 0, 1), (1, 0, 0, 0)]\n",
      "[0.08124094 0.91875906]\n",
      "[(0, 1), (0, 0)]\n",
      "[0.15922958 0.84077042]\n",
      "[(0, 1, 1), (0, 1, 0)]\n",
      "[0.8061253 0.1938747]\n",
      "[(0, 1, 1, 1), (0, 1, 1, 0)]\n",
      "[0.75642341 0.24357659]\n",
      "[(0, 1, 0, 1), (0, 1, 0, 0)]\n",
      "[0.39194386 0.60805614]\n",
      "[(0, 0, 1), (0, 0, 0)]\n",
      "[0.01313399 0.98686601]\n",
      "[(0, 0, 1, 1), (0, 0, 1, 0)]\n",
      "[0.76533107 0.23466893]\n",
      "[(0, 0, 0, 1), (0, 0, 0, 0)]\n",
      "[0.17447567 0.82552433]\n",
      "() []\n"
     ]
    },
    {
     "ename": "KeyError",
     "evalue": "'cond_prob'",
     "output_type": "error",
     "traceback": [
      "\u001b[0;31m---------------------------------------------------------------------------\u001b[0m",
      "\u001b[0;31mKeyError\u001b[0m                                  Traceback (most recent call last)",
      "\u001b[1;32m/home/f/l/flrios/git/CStrees/src/testing.ipynb Cell 2\u001b[0m in \u001b[0;36m2\n\u001b[1;32m     <a href='vscode-notebook-cell:/home/f/l/flrios/git/CStrees/src/testing.ipynb#W1sZmlsZQ%3D%3D?line=25'>26</a>\u001b[0m a \u001b[39m=\u001b[39m tree\u001b[39m.\u001b[39mplot()\n\u001b[1;32m     <a href='vscode-notebook-cell:/home/f/l/flrios/git/CStrees/src/testing.ipynb#W1sZmlsZQ%3D%3D?line=26'>27</a>\u001b[0m a\u001b[39m.\u001b[39mdraw(\u001b[39m\"\u001b[39m\u001b[39mtestplot.png\u001b[39m\u001b[39m\"\u001b[39m)\n\u001b[0;32m---> <a href='vscode-notebook-cell:/home/f/l/flrios/git/CStrees/src/testing.ipynb#W1sZmlsZQ%3D%3D?line=28'>29</a>\u001b[0m x \u001b[39m=\u001b[39m tree\u001b[39m.\u001b[39msample(\u001b[39m5\u001b[39m)\n\u001b[1;32m     <a href='vscode-notebook-cell:/home/f/l/flrios/git/CStrees/src/testing.ipynb#W1sZmlsZQ%3D%3D?line=29'>30</a>\u001b[0m \u001b[39m# print(x)\u001b[39;00m\n\u001b[1;32m     <a href='vscode-notebook-cell:/home/f/l/flrios/git/CStrees/src/testing.ipynb#W1sZmlsZQ%3D%3D?line=30'>31</a>\u001b[0m rels \u001b[39m=\u001b[39m tree\u001b[39m.\u001b[39mcsi_relations()\n",
      "File \u001b[0;32m/afs/kth.se/home/f/l/flrios/git/CStrees/src/cstrees/cstree.py:348\u001b[0m, in \u001b[0;36mCStree.sample\u001b[0;34m(self, n)\u001b[0m\n\u001b[1;32m    346\u001b[0m edges \u001b[39m=\u001b[39m \u001b[39mlist\u001b[39m(\u001b[39mself\u001b[39m\u001b[39m.\u001b[39mtree\u001b[39m.\u001b[39mout_edges(node))\n\u001b[1;32m    347\u001b[0m \u001b[39m#print(self.tree[()][(0,)])\u001b[39;00m\n\u001b[0;32m--> 348\u001b[0m probabilities \u001b[39m=\u001b[39m [\u001b[39mself\u001b[39m\u001b[39m.\u001b[39mtree[e[\u001b[39m0\u001b[39m]][e[\u001b[39m1\u001b[39m]][\u001b[39m\"\u001b[39m\u001b[39mcond_prob\u001b[39m\u001b[39m\"\u001b[39m]\n\u001b[1;32m    349\u001b[0m                 \u001b[39mfor\u001b[39;00m e \u001b[39min\u001b[39;00m edges]\n\u001b[1;32m    350\u001b[0m \u001b[39m#print(probabilities)\u001b[39;00m\n\u001b[1;32m    351\u001b[0m \u001b[39m#elements = [str(e[1]) for e in edges]\u001b[39;00m\n\u001b[1;32m    352\u001b[0m \u001b[39m# ind is the index or the outcome of the sampled variable\u001b[39;00m\n\u001b[1;32m    353\u001b[0m vals \u001b[39m=\u001b[39m \u001b[39mlen\u001b[39m(edges)\n",
      "File \u001b[0;32m/afs/kth.se/home/f/l/flrios/git/CStrees/src/cstrees/cstree.py:348\u001b[0m, in \u001b[0;36m<listcomp>\u001b[0;34m(.0)\u001b[0m\n\u001b[1;32m    346\u001b[0m edges \u001b[39m=\u001b[39m \u001b[39mlist\u001b[39m(\u001b[39mself\u001b[39m\u001b[39m.\u001b[39mtree\u001b[39m.\u001b[39mout_edges(node))\n\u001b[1;32m    347\u001b[0m \u001b[39m#print(self.tree[()][(0,)])\u001b[39;00m\n\u001b[0;32m--> 348\u001b[0m probabilities \u001b[39m=\u001b[39m [\u001b[39mself\u001b[39;49m\u001b[39m.\u001b[39;49mtree[e[\u001b[39m0\u001b[39;49m]][e[\u001b[39m1\u001b[39;49m]][\u001b[39m\"\u001b[39;49m\u001b[39mcond_prob\u001b[39;49m\u001b[39m\"\u001b[39;49m]\n\u001b[1;32m    349\u001b[0m                 \u001b[39mfor\u001b[39;00m e \u001b[39min\u001b[39;00m edges]\n\u001b[1;32m    350\u001b[0m \u001b[39m#print(probabilities)\u001b[39;00m\n\u001b[1;32m    351\u001b[0m \u001b[39m#elements = [str(e[1]) for e in edges]\u001b[39;00m\n\u001b[1;32m    352\u001b[0m \u001b[39m# ind is the index or the outcome of the sampled variable\u001b[39;00m\n\u001b[1;32m    353\u001b[0m vals \u001b[39m=\u001b[39m \u001b[39mlen\u001b[39m(edges)\n",
      "\u001b[0;31mKeyError\u001b[0m: 'cond_prob'"
     ]
    }
   ],
   "source": [
    "\n",
    "p=4\n",
    "cards = [2] * p\n",
    "co = ct.CausalOrder(range(p))\n",
    "tree = ct.CStree(co)\n",
    "\n",
    "\n",
    "#stage = ct.sample_random_stage(cards,2)\n",
    "#stage.set_random_params(cards)\n",
    "\n",
    "tree.set_cardinalities(cards)\n",
    "\n",
    "# These do not have to be in a dict like this as the levels are\n",
    "# determined from the length of the tuples.\n",
    "\n",
    "tree.set_stages({\n",
    "    0: [],\n",
    "    1: [ct.Stage([{0, 1}, 0])],    # Green\n",
    "    2: [ct.Stage([0, {0, 1}, 0]),  # Blue\n",
    "        ct.Stage([0, {0, 1}, 1]),  # Orange\n",
    "        ct.Stage([1, {0, 1}, 0])]  # Red\n",
    "})\n",
    "\n",
    "\n",
    "tree.set_random_stage_parameters()\n",
    "\n",
    "a = tree.plot()\n",
    "a.draw(\"testplot.png\")\n",
    "\n",
    "x = tree.sample(5)\n",
    "# print(x)\n",
    "rels = tree.csi_relations()\n",
    "\n",
    "print(\"Initial rels\")\n",
    "print(rels)\n",
    "adjmats = tree.to_minimal_context_graphs()\n",
    "\n",
    "i = 1\n",
    "for key, graph in adjmats.items():\n",
    "    agraph = nx.nx_agraph.to_agraph(graph)\n",
    "    agraph.layout(\"dot\")\n",
    "\n",
    "    #agraph.draw(str(key) + \"_csi.png\", args=\"-Glabel=Context:\"+str(key) +\"   \")\n",
    "    agraph.draw(str(key) + \"_csi.png\", args='-Glabel=\"'+str(key)+'\"   ')\n",
    "    # print(graph.nodes)\n",
    "    # print(graph.edges())\n",
    "    i += 1\n"
   ]
  },
  {
   "cell_type": "code",
   "execution_count": null,
   "metadata": {},
   "outputs": [],
   "source": []
  }
 ],
 "metadata": {
  "kernelspec": {
   "display_name": "cstree_env",
   "language": "python",
   "name": "python3"
  },
  "language_info": {
   "codemirror_mode": {
    "name": "ipython",
    "version": 3
   },
   "file_extension": ".py",
   "mimetype": "text/x-python",
   "name": "python",
   "nbconvert_exporter": "python",
   "pygments_lexer": "ipython3",
   "version": "3.9.12"
  },
  "orig_nbformat": 4
 },
 "nbformat": 4,
 "nbformat_minor": 2
}
