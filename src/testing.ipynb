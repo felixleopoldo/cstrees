{
 "cells": [
  {
   "cell_type": "code",
   "execution_count": 44,
   "metadata": {},
   "outputs": [
    {
     "name": "stdout",
     "output_type": "stream",
     "text": [
      "The autoreload extension is already loaded. To reload it, use:\n",
      "  %reload_ext autoreload\n"
     ]
    }
   ],
   "source": [
    "%load_ext autoreload\n",
    "%autoreload 2\n",
    "\n",
    "import cstrees.cstree as ct\n",
    "import numpy as np\n",
    "import networkx as nx\n",
    "import logging, sys\n",
    "\n",
    "logging.basicConfig(stream=sys.stderr, level=logging.DEBUG)\n",
    "\n",
    "# CStree from Figure 1 in (Duarte & Solus, 2022)\n"
   ]
  },
  {
   "cell_type": "code",
   "execution_count": 52,
   "metadata": {},
   "outputs": [
    {
     "name": "stdout",
     "output_type": "stream",
     "text": [
      "[((), (1,)), ((), (0,)), ((1,), (1, 1)), ((1,), (1, 0)), ((1, 1), (1, 1, 1)), ((1, 1), (1, 1, 0)), ((1, 1, 1), (1, 1, 1, 1)), ((1, 1, 1), (1, 1, 1, 0)), ((1, 1, 0), (1, 1, 0, 1)), ((1, 1, 0), (1, 1, 0, 0)), ((1, 0), (1, 0, 1)), ((1, 0), (1, 0, 0)), ((1, 0, 1), (1, 0, 1, 1)), ((1, 0, 1), (1, 0, 1, 0)), ((1, 0, 0), (1, 0, 0, 1)), ((1, 0, 0), (1, 0, 0, 0)), ((0,), (0, 1)), ((0,), (0, 0)), ((0, 1), (0, 1, 1)), ((0, 1), (0, 1, 0)), ((0, 1, 1), (0, 1, 1, 1)), ((0, 1, 1), (0, 1, 1, 0)), ((0, 1, 0), (0, 1, 0, 1)), ((0, 1, 0), (0, 1, 0, 0)), ((0, 0), (0, 0, 1)), ((0, 0), (0, 0, 0)), ((0, 0, 1), (0, 0, 1, 1)), ((0, 0, 1), (0, 0, 1, 0)), ((0, 0, 0), (0, 0, 0, 1)), ((0, 0, 0), (0, 0, 0, 0))]\n"
     ]
    }
   ],
   "source": [
    "np.random.seed(1)\n",
    "p=4\n",
    "cards = [2] * p\n",
    "co = ct.CausalOrder(range(p))\n",
    "tree = ct.CStree(co)\n",
    "\n",
    "\n",
    "#stage = ct.sample_random_stage(cards,2)\n",
    "#stage.set_random_params(cards)\n",
    "\n",
    "tree.set_cardinalities(cards)\n",
    "\n",
    "# These do not have to be in a dict like this as the levels are\n",
    "# determined from the length of the tuples.\n",
    "\n",
    "tree.set_stages({\n",
    "    0: [],\n",
    "    1: [ct.Stage([{0, 1}, 0])],    # Green\n",
    "    2: [ct.Stage([0, {0, 1}, 0]),  # Blue\n",
    "        ct.Stage([0, {0, 1}, 1]),  # Orange\n",
    "        ct.Stage([1, {0, 1}, 0])]  # Red\n",
    "})\n",
    "\n",
    "\n",
    "tree.set_random_stage_parameters()\n",
    "#x = tree.sample(150)\n",
    "\n",
    "a = tree.plot()\n",
    "a.draw(\"testplot.png\")\n",
    "\n",
    "\n",
    "#x = tree.sample(5)\n",
    "#print(x)\n",
    "#rels = tree.csi_relations()\n",
    "\n",
    "#print(\"Initial rels\")\n",
    "#print(rels)\n",
    "adjmats = tree.to_minimal_context_graphs()\n",
    "\n",
    "i = 1\n",
    "for key, graph in adjmats.items():\n",
    "    agraph = nx.nx_agraph.to_agraph(graph)\n",
    "    agraph.layout(\"dot\")\n",
    "\n",
    "    #agraph.draw(str(key) + \"_csi.png\", args=\"-Glabel=Context:\"+str(key) +\"   \")\n",
    "    agraph.draw(str(key) + \"_csi.png\", args='-Glabel=\"'+str(key)+'\"   ')\n",
    "    # print(graph.nodes)\n",
    "    # print(graph.edges())\n",
    "    i += 1\n"
   ]
  },
  {
   "cell_type": "code",
   "execution_count": 54,
   "metadata": {},
   "outputs": [
    {
     "data": {
      "text/html": [
       "<div>\n",
       "<style scoped>\n",
       "    .dataframe tbody tr th:only-of-type {\n",
       "        vertical-align: middle;\n",
       "    }\n",
       "\n",
       "    .dataframe tbody tr th {\n",
       "        vertical-align: top;\n",
       "    }\n",
       "\n",
       "    .dataframe thead th {\n",
       "        text-align: right;\n",
       "    }\n",
       "</style>\n",
       "<table border=\"1\" class=\"dataframe\">\n",
       "  <thead>\n",
       "    <tr style=\"text-align: right;\">\n",
       "      <th></th>\n",
       "      <th>0</th>\n",
       "      <th>1</th>\n",
       "      <th>2</th>\n",
       "      <th>3</th>\n",
       "    </tr>\n",
       "  </thead>\n",
       "  <tbody>\n",
       "    <tr>\n",
       "      <th>0</th>\n",
       "      <td>2</td>\n",
       "      <td>2</td>\n",
       "      <td>2</td>\n",
       "      <td>2</td>\n",
       "    </tr>\n",
       "    <tr>\n",
       "      <th>0</th>\n",
       "      <td>*</td>\n",
       "      <td>0</td>\n",
       "      <td>-</td>\n",
       "      <td>-</td>\n",
       "    </tr>\n",
       "    <tr>\n",
       "      <th>0</th>\n",
       "      <td>0</td>\n",
       "      <td>*</td>\n",
       "      <td>0</td>\n",
       "      <td>-</td>\n",
       "    </tr>\n",
       "    <tr>\n",
       "      <th>0</th>\n",
       "      <td>0</td>\n",
       "      <td>*</td>\n",
       "      <td>1</td>\n",
       "      <td>-</td>\n",
       "    </tr>\n",
       "    <tr>\n",
       "      <th>0</th>\n",
       "      <td>1</td>\n",
       "      <td>*</td>\n",
       "      <td>0</td>\n",
       "      <td>-</td>\n",
       "    </tr>\n",
       "  </tbody>\n",
       "</table>\n",
       "</div>"
      ],
      "text/plain": [
       "   0  1  2  3\n",
       "0  2  2  2  2\n",
       "0  *  0  -  -\n",
       "0  0  *  0  -\n",
       "0  0  *  1  -\n",
       "0  1  *  0  -"
      ]
     },
     "execution_count": 54,
     "metadata": {},
     "output_type": "execute_result"
    }
   ],
   "source": [
    "tree.to_df()"
   ]
  }
 ],
 "metadata": {
  "kernelspec": {
   "display_name": "cstree_env",
   "language": "python",
   "name": "python3"
  },
  "language_info": {
   "codemirror_mode": {
    "name": "ipython",
    "version": 3
   },
   "file_extension": ".py",
   "mimetype": "text/x-python",
   "name": "python",
   "nbconvert_exporter": "python",
   "pygments_lexer": "ipython3",
   "version": "3.9.12"
  },
  "orig_nbformat": 4
 },
 "nbformat": 4,
 "nbformat_minor": 2
}
