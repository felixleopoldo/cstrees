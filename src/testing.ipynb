{
 "cells": [
  {
   "cell_type": "code",
   "execution_count": 1,
   "metadata": {},
   "outputs": [],
   "source": [
    "import cstrees.cstree as ct\n",
    "import numpy as np\n",
    "import networkx as nx\n",
    "import itertools\n",
    "# CStree from Figure 1 in (Duarte & Solus, 2022)\n",
    "np.random.seed(1)"
   ]
  },
  {
   "cell_type": "code",
   "execution_count": 4,
   "metadata": {},
   "outputs": [
    {
     "ename": "IndexError",
     "evalue": "list index out of range",
     "output_type": "error",
     "traceback": [
      "\u001b[0;31m---------------------------------------------------------------------------\u001b[0m",
      "\u001b[0;31mIndexError\u001b[0m                                Traceback (most recent call last)",
      "\u001b[1;32m/home/f/l/flrios/git/CStrees/src/testing.ipynb Cell 2\u001b[0m in \u001b[0;36m2\n\u001b[1;32m     <a href='vscode-notebook-cell:/home/f/l/flrios/git/CStrees/src/testing.ipynb#W1sZmlsZQ%3D%3D?line=11'>12</a>\u001b[0m \u001b[39m# These do not have to be in a dict like this as the levels are\u001b[39;00m\n\u001b[1;32m     <a href='vscode-notebook-cell:/home/f/l/flrios/git/CStrees/src/testing.ipynb#W1sZmlsZQ%3D%3D?line=12'>13</a>\u001b[0m \u001b[39m# determined from the length of the tuples.\u001b[39;00m\n\u001b[1;32m     <a href='vscode-notebook-cell:/home/f/l/flrios/git/CStrees/src/testing.ipynb#W1sZmlsZQ%3D%3D?line=14'>15</a>\u001b[0m tree\u001b[39m.\u001b[39mset_stages({\n\u001b[1;32m     <a href='vscode-notebook-cell:/home/f/l/flrios/git/CStrees/src/testing.ipynb#W1sZmlsZQ%3D%3D?line=15'>16</a>\u001b[0m     \u001b[39m0\u001b[39m: [],\n\u001b[1;32m     <a href='vscode-notebook-cell:/home/f/l/flrios/git/CStrees/src/testing.ipynb#W1sZmlsZQ%3D%3D?line=16'>17</a>\u001b[0m     \u001b[39m1\u001b[39m: [],\n\u001b[0;32m   (...)\u001b[0m\n\u001b[1;32m     <a href='vscode-notebook-cell:/home/f/l/flrios/git/CStrees/src/testing.ipynb#W1sZmlsZQ%3D%3D?line=20'>21</a>\u001b[0m         ct\u001b[39m.\u001b[39mStage([\u001b[39m1\u001b[39m, {\u001b[39m0\u001b[39m, \u001b[39m1\u001b[39m}, \u001b[39m0\u001b[39m])]  \u001b[39m# Red\u001b[39;00m\n\u001b[1;32m     <a href='vscode-notebook-cell:/home/f/l/flrios/git/CStrees/src/testing.ipynb#W1sZmlsZQ%3D%3D?line=21'>22</a>\u001b[0m })\n\u001b[0;32m---> <a href='vscode-notebook-cell:/home/f/l/flrios/git/CStrees/src/testing.ipynb#W1sZmlsZQ%3D%3D?line=24'>25</a>\u001b[0m tree\u001b[39m.\u001b[39mset_random_stage_parameters()\n\u001b[1;32m     <a href='vscode-notebook-cell:/home/f/l/flrios/git/CStrees/src/testing.ipynb#W1sZmlsZQ%3D%3D?line=26'>27</a>\u001b[0m a \u001b[39m=\u001b[39m tree\u001b[39m.\u001b[39mplot()\n\u001b[1;32m     <a href='vscode-notebook-cell:/home/f/l/flrios/git/CStrees/src/testing.ipynb#W1sZmlsZQ%3D%3D?line=27'>28</a>\u001b[0m a\u001b[39m.\u001b[39mdraw(\u001b[39m\"\u001b[39m\u001b[39mtestplot.png\u001b[39m\u001b[39m\"\u001b[39m)\n",
      "File \u001b[0;32m/afs/kth.se/home/f/l/flrios/git/CStrees/src/cstrees/cstree.py:138\u001b[0m, in \u001b[0;36mCStree.set_random_stage_parameters\u001b[0;34m(self)\u001b[0m\n\u001b[1;32m    136\u001b[0m \u001b[39mfor\u001b[39;00m lev, stages \u001b[39min\u001b[39;00m \u001b[39mself\u001b[39m\u001b[39m.\u001b[39mstages\u001b[39m.\u001b[39mitems():\n\u001b[1;32m    137\u001b[0m     \u001b[39mfor\u001b[39;00m i, stage \u001b[39min\u001b[39;00m \u001b[39menumerate\u001b[39m(stages):\n\u001b[0;32m--> 138\u001b[0m         probs \u001b[39m=\u001b[39m np\u001b[39m.\u001b[39mrandom\u001b[39m.\u001b[39mdirichlet([\u001b[39m1\u001b[39m] \u001b[39m*\u001b[39m \u001b[39mself\u001b[39;49m\u001b[39m.\u001b[39;49mcards[lev\u001b[39m+\u001b[39;49m\u001b[39m1\u001b[39;49m])\n\u001b[1;32m    139\u001b[0m         stage\u001b[39m.\u001b[39mprobs \u001b[39m=\u001b[39m probs\n\u001b[1;32m    140\u001b[0m         stage\u001b[39m.\u001b[39mcolor \u001b[39m=\u001b[39m \u001b[39mself\u001b[39m\u001b[39m.\u001b[39mcolors[i]\n",
      "\u001b[0;31mIndexError\u001b[0m: list index out of range"
     ]
    }
   ],
   "source": [
    "\n",
    "p=4\n",
    "cards = [2] * p\n",
    "co = ct.CausalOrder(range(p))\n",
    "tree = ct.CStree(co)\n",
    "\n",
    "\n",
    "#stage = ct.sample_random_stage(cards,2)\n",
    "#stage.set_random_params(cards)\n",
    "\n",
    "tree.set_cardinalities(cards)\n",
    "\n",
    "# These do not have to be in a dict like this as the levels are\n",
    "# determined from the length of the tuples.\n",
    "\n",
    "tree.set_stages({\n",
    "    0: [],\n",
    "    1: [],\n",
    "    2: [ct.Stage([{0, 1}, 0])],    # Green\n",
    "    3: [ct.Stage([0, {0, 1}, 0]),  # Blue\n",
    "        ct.Stage([0, {0, 1}, 1]),  # Orange\n",
    "        ct.Stage([1, {0, 1}, 0])]  # Red\n",
    "})\n",
    "\n",
    "\n",
    "tree.set_random_stage_parameters()\n",
    "\n",
    "a = tree.plot()\n",
    "a.draw(\"testplot.png\")\n",
    "\n",
    "x = tree.sample(5)\n",
    "# print(x)\n",
    "rels = tree.csi_relations()\n",
    "\n",
    "print(\"Initial rels\")\n",
    "print(rels)\n",
    "adjmats = tree.to_minimal_context_graphs()\n",
    "\n",
    "i = 1\n",
    "for key, graph in adjmats.items():\n",
    "    agraph = nx.nx_agraph.to_agraph(graph)\n",
    "    agraph.layout(\"dot\")\n",
    "\n",
    "    #agraph.draw(str(key) + \"_csi.png\", args=\"-Glabel=Context:\"+str(key) +\"   \")\n",
    "    agraph.draw(str(key) + \"_csi.png\", args='-Glabel=\"'+str(key)+'\"   ')\n",
    "    # print(graph.nodes)\n",
    "    # print(graph.edges())\n",
    "    i += 1\n"
   ]
  },
  {
   "cell_type": "code",
   "execution_count": null,
   "metadata": {},
   "outputs": [],
   "source": []
  }
 ],
 "metadata": {
  "kernelspec": {
   "display_name": "cstree_env",
   "language": "python",
   "name": "python3"
  },
  "language_info": {
   "codemirror_mode": {
    "name": "ipython",
    "version": 3
   },
   "file_extension": ".py",
   "mimetype": "text/x-python",
   "name": "python",
   "nbconvert_exporter": "python",
   "pygments_lexer": "ipython3",
   "version": "3.9.12"
  },
  "orig_nbformat": 4
 },
 "nbformat": 4,
 "nbformat_minor": 2
}
