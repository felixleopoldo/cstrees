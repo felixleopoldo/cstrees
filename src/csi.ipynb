{
 "cells": [
  {
   "cell_type": "code",
   "execution_count": 1,
   "metadata": {},
   "outputs": [],
   "source": [
    "import time\n",
    "import pandas as pd\n",
    "import random\n",
    "import networkx as nx\n",
    "import numpy as np\n",
    "import cstrees.cstree as ct\n",
    "%load_ext autoreload\n",
    "%autoreload 2\n"
   ]
  },
  {
   "cell_type": "code",
   "execution_count": 189,
   "metadata": {},
   "outputs": [
    {
     "name": "stdout",
     "output_type": "stream",
     "text": [
      "[0, {0, 1}, 1, {0, 1}]\n",
      "sample\n",
      "[0, 0, 1, 0]\n",
      "diff\n",
      "[0, 1, 1, {0, 1}]\n",
      "[0, 0, 1, 1]\n",
      "   0  1  2  3  4\n",
      "0  0  0  1  0  -\n",
      "X1, X3 ⊥  X4, X0=0, X2=1\n",
      " ⊥  X4, X0=0, X1=0, X2=1, X3=0\n"
     ]
    }
   ],
   "source": [
    "p = 4\n",
    "\n",
    "np.random.seed(7)\n",
    "\n",
    "cards = [2, 2, 2, 2]\n",
    "s = ct.Stage([0, {0, 1}, 1, {0, 1}])\n",
    "print(s)\n",
    "\n",
    "stage = ct.sample_stage_restr_by_stage(s, 3, cards)\n",
    "print(\"sample\")\n",
    "print(stage) # TODO: Make sure at least one is not int!!!\n",
    "\n",
    "print(\"diff\")\n",
    "diff = s - stage\n",
    "for d in diff:\n",
    "    print(d)\n",
    "\n",
    "print(stage.to_df([0,1,2,3,4]))\n",
    "\n",
    "print(s.to_csi())\n",
    "print(stage.to_csi())\n"
   ]
  },
  {
   "cell_type": "code",
   "execution_count": 119,
   "metadata": {},
   "outputs": [
    {
     "name": "stdout",
     "output_type": "stream",
     "text": [
      "[{0, 1}, {0, 1}, {0, 1}]\n",
      "[1, {0, 1}, 1]\n",
      "Remove\n",
      "[1, {0, 1}, 1]\n",
      "From\n",
      "[{0, 1}, {0, 1}, {0, 1}]\n",
      "res\n",
      "[0, {0, 1}, {0, 1}]\n",
      "[1, {0, 1}, 0]\n",
      "Remove\n",
      "[1, {0, 1}, 0]\n",
      "From\n",
      "[1, {0, 1}, 0]\n",
      "res\n",
      "[0, {0, 1}, {0, 1}]\n",
      "[0, {0, 1}, {0, 1}]\n",
      "Remove\n",
      "[0, {0, 1}, 1]\n",
      "From\n",
      "[0, {0, 1}, {0, 1}]\n",
      "res\n",
      "[0, {0, 1}, 0]\n"
     ]
    }
   ],
   "source": [
    "stage = ct.Stage([{0, 1}, {0, 1}, {0, 1}])\n",
    "stage2 = ct.Stage([1, {0, 1}, 1]) # blue\n",
    "#stage = ct.Stage([{0, 1}, {0, 1},0, {0, 1}, 1])\n",
    "#stage2 = ct.Stage([1, {0, 1}, 0, 1, 1])\n",
    "#stage = ct.Stage([{0,1}, {0, 1}, 1])\n",
    "#stage2 = ct.Stage([{0,1}, 1, 1])\n",
    "\n",
    "print(stage)\n",
    "print(stage2)\n",
    "\n",
    "res = stage - stage2\n",
    "print(\"res\")\n",
    "for c in res:\n",
    "    print(c)\n",
    "\n",
    "base = res.pop(1)\n",
    "res += base - ct.Stage([1, {0, 1}, 0]) # orange\n",
    "print(\"res\")\n",
    "for r in res:\n",
    "    print(r)\n",
    "\n",
    "base = res.pop(0)\n",
    "print(base)\n",
    "res += base - ct.Stage([0, {0, 1}, 1]) # red\n",
    "\n",
    "print(\"res\")\n",
    "for r in res:\n",
    "    print(r)\n",
    "\n",
    "\n"
   ]
  },
  {
   "cell_type": "code",
   "execution_count": 38,
   "metadata": {},
   "outputs": [
    {
     "data": {
      "text/plain": [
       "[2, 4, 1, 3]"
      ]
     },
     "execution_count": 38,
     "metadata": {},
     "output_type": "execute_result"
    }
   ],
   "source": [
    "a = [1, 2, 3, 4]\n",
    "random.shuffle(a)\n",
    "a\n"
   ]
  }
 ],
 "metadata": {
  "kernelspec": {
   "display_name": "cstree_env",
   "language": "python",
   "name": "python3"
  },
  "language_info": {
   "codemirror_mode": {
    "name": "ipython",
    "version": 3
   },
   "file_extension": ".py",
   "mimetype": "text/x-python",
   "name": "python",
   "nbconvert_exporter": "python",
   "pygments_lexer": "ipython3",
   "version": "3.9.12"
  },
  "orig_nbformat": 4,
  "vscode": {
   "interpreter": {
    "hash": "e40745d7cc8d515702a8d40c3045bcc6e06a658c4521ba1195841f1515fd2c5c"
   }
  }
 },
 "nbformat": 4,
 "nbformat_minor": 2
}
