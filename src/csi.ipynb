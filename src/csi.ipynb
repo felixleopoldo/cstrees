{
 "cells": [
  {
   "cell_type": "code",
   "execution_count": 1,
   "metadata": {},
   "outputs": [],
   "source": [
    "import time\n",
    "import pandas as pd\n",
    "import random\n",
    "import networkx as nx\n",
    "import numpy as np\n",
    "import cstrees.cstree as ct\n",
    "%load_ext autoreload\n",
    "%autoreload 2\n"
   ]
  },
  {
   "cell_type": "code",
   "execution_count": null,
   "metadata": {},
   "outputs": [],
   "source": []
  },
  {
   "cell_type": "code",
   "execution_count": 3,
   "metadata": {},
   "outputs": [
    {
     "ename": "TypeError",
     "evalue": "sample_csi_rest_by_csi() missing 1 required positional argument: 'n_context_vars'",
     "output_type": "error",
     "traceback": [
      "\u001b[0;31m---------------------------------------------------------------------------\u001b[0m",
      "\u001b[0;31mTypeError\u001b[0m                                 Traceback (most recent call last)",
      "Cell \u001b[0;32mIn[3], line 15\u001b[0m\n\u001b[1;32m     11\u001b[0m \u001b[39m#tree.set_cardinalities([None] + cards)\u001b[39;00m\n\u001b[1;32m     13\u001b[0m csi_space \u001b[39m=\u001b[39m [csi]\n\u001b[0;32m---> 15\u001b[0m csi2 \u001b[39m=\u001b[39m ct\u001b[39m.\u001b[39;49msample_csi_rest_by_csi(csi)\n",
      "\u001b[0;31mTypeError\u001b[0m: sample_csi_rest_by_csi() missing 1 required positional argument: 'n_context_vars'"
     ]
    }
   ],
   "source": [
    "p = 5\n",
    "\n",
    "np.random.seed()\n",
    "p = 5\n",
    "co = ct.CausalOrder(range(1, p+1))\n",
    "#tree = ct.CStree(co)\n",
    "cards = [2] * p\n",
    "\n",
    "s = ct.Stage([[0, 1], [0, 1], [0, 1], [0, 1]])\n",
    "csi = s.to_csi()\n",
    "#tree.set_cardinalities([None] + cards)\n",
    "\n",
    "csi_space = [csi]\n",
    "\n",
    "csi2 = ct.sample_csi_rest_by_csi(csi)\n",
    "\n",
    "\n"
   ]
  },
  {
   "cell_type": "code",
   "execution_count": 11,
   "metadata": {},
   "outputs": [
    {
     "data": {
      "text/plain": [
       "[2, 1, 4, 3]"
      ]
     },
     "execution_count": 11,
     "metadata": {},
     "output_type": "execute_result"
    }
   ],
   "source": [
    "a = [1,2,3,4]\n",
    "random.shuffle(a)\n",
    "a"
   ]
  }
 ],
 "metadata": {
  "kernelspec": {
   "display_name": "Python 3",
   "language": "python",
   "name": "python3"
  },
  "language_info": {
   "codemirror_mode": {
    "name": "ipython",
    "version": 3
   },
   "file_extension": ".py",
   "mimetype": "text/x-python",
   "name": "python",
   "nbconvert_exporter": "python",
   "pygments_lexer": "ipython3",
   "version": "3.11.2"
  },
  "orig_nbformat": 4,
  "vscode": {
   "interpreter": {
    "hash": "949777d72b0d2535278d3dc13498b2535136f6dfe0678499012e853ee9abcab1"
   }
  }
 },
 "nbformat": 4,
 "nbformat_minor": 2
}
