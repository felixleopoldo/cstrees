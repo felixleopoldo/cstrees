{
 "cells": [
  {
   "cell_type": "code",
   "execution_count": 3,
   "metadata": {},
   "outputs": [],
   "source": [
    "import time\n",
    "import pandas as pd\n",
    "import random\n",
    "import networkx as nx\n",
    "import numpy as np\n",
    "import cstrees.cstree as ct\n",
    "%load_ext autoreload\n",
    "%autoreload 2\n"
   ]
  },
  {
   "cell_type": "code",
   "execution_count": null,
   "metadata": {},
   "outputs": [],
   "source": []
  },
  {
   "cell_type": "code",
   "execution_count": 6,
   "metadata": {},
   "outputs": [
    {
     "ename": "AttributeError",
     "evalue": "'list' object has no attribute 'as_list'",
     "output_type": "error",
     "traceback": [
      "\u001b[0;31m---------------------------------------------------------------------------\u001b[0m",
      "\u001b[0;31mAttributeError\u001b[0m                            Traceback (most recent call last)",
      "Cell \u001b[0;32mIn [6], line 15\u001b[0m\n\u001b[1;32m     11\u001b[0m \u001b[39m#tree.set_cardinalities([None] + cards)\u001b[39;00m\n\u001b[1;32m     13\u001b[0m csi_space \u001b[39m=\u001b[39m [csi]\n\u001b[0;32m---> 15\u001b[0m csi2 \u001b[39m=\u001b[39m ct\u001b[39m.\u001b[39msample_csi_rest_by_csi(csi_space)\n",
      "File \u001b[0;32m/afs/kth.se/home/f/l/flrios/git/CStrees/src/cstrees/cstree.py:1267\u001b[0m, in \u001b[0;36msample_csi_rest_by_csi\u001b[0;34m(csi)\u001b[0m\n\u001b[1;32m   1266\u001b[0m \u001b[39mdef\u001b[39;00m \u001b[39msample_csi_rest_by_csi\u001b[39m(csi: CSI_relation):\n\u001b[0;32m-> 1267\u001b[0m     space \u001b[39m=\u001b[39m csi\u001b[39m.\u001b[39;49mas_list()\n\u001b[1;32m   1268\u001b[0m     \u001b[39mprint\u001b[39m(space)\n",
      "\u001b[0;31mAttributeError\u001b[0m: 'list' object has no attribute 'as_list'"
     ]
    }
   ],
   "source": [
    "p = 5\n",
    "\n",
    "np.random.seed()\n",
    "p = 5\n",
    "co = ct.CausalOrder(range(1, p+1))\n",
    "#tree = ct.CStree(co)\n",
    "cards = [2] * p\n",
    "\n",
    "s = ct.Stage([[0, 1], [0, 1], [0, 1], [0, 1]])\n",
    "csi = s.to_csi()\n",
    "#tree.set_cardinalities([None] + cards)\n",
    "\n",
    "csi_space = [csi]\n",
    "\n",
    "csi2 = ct.sample_csi_rest_by_csi(csi)\n",
    "\n",
    "\n"
   ]
  },
  {
   "cell_type": "code",
   "execution_count": null,
   "metadata": {},
   "outputs": [],
   "source": []
  }
 ],
 "metadata": {
  "kernelspec": {
   "display_name": "cstree_env",
   "language": "python",
   "name": "python3"
  },
  "language_info": {
   "codemirror_mode": {
    "name": "ipython",
    "version": 3
   },
   "file_extension": ".py",
   "mimetype": "text/x-python",
   "name": "python",
   "nbconvert_exporter": "python",
   "pygments_lexer": "ipython3",
   "version": "3.9.12"
  },
  "orig_nbformat": 4,
  "vscode": {
   "interpreter": {
    "hash": "e40745d7cc8d515702a8d40c3045bcc6e06a658c4521ba1195841f1515fd2c5c"
   }
  }
 },
 "nbformat": 4,
 "nbformat_minor": 2
}
