{
 "cells": [
  {
   "cell_type": "code",
   "execution_count": 1,
   "metadata": {},
   "outputs": [],
   "source": [
    "import time\n",
    "import pandas as pd\n",
    "import random\n",
    "import networkx as nx\n",
    "import numpy as np\n",
    "import cstrees.cstree as ct\n",
    "%load_ext autoreload\n",
    "%autoreload 2\n"
   ]
  },
  {
   "cell_type": "code",
   "execution_count": 48,
   "metadata": {},
   "outputs": [
    {
     "name": "stdout",
     "output_type": "stream",
     "text": [
      "[None, None, {1}, None, None]\n",
      "[None, {0}, None, {1}, None, {0}]\n",
      "converted\n",
      "X2, X4 ⊥  X6, X1=0, X3=1, X5=0\n",
      "5\n",
      "Remove\n",
      "[{0}, None, {1}, None, {0}, None]\n",
      "From\n",
      "[None, None, {1}, None, None]\n",
      "[{0}, None, {1}, None, {0}, None]\n",
      "0\n",
      "new space\n",
      "[{1}, None, None, None, None]\n",
      "1\n",
      "2\n",
      "3\n",
      "4\n",
      "new space\n",
      "[{0}, None, {1}, None, {1}]\n",
      "5\n"
     ]
    }
   ],
   "source": [
    "p = 5\n",
    "\n",
    "np.random.seed(7)\n",
    "\n",
    "co = ct.CausalOrder(range(1, p+1))\n",
    "#tree = ct.CStree(co)\n",
    "cards = [2,3,2,2,2]\n",
    "\n",
    "s = ct.Stage([[0, 1], [0, 1, 2],  1, [0, 1]])\n",
    "csi = s.to_csi()\n",
    "#tree.set_cardinalities([None] + cards)\n",
    "\n",
    "csi_space = [csi]\n",
    "\n",
    "csilist2 = ct.sample_csi_restr_by_csi(csi, 2, cards)\n",
    "print(csilist2)\n",
    "\n",
    "print(\"converted\")\n",
    "csi2 = ct.csilist_to_csi_2(csilist2)\n",
    "print(csi2)\n",
    "\n",
    " # csis an stages have different list representations.\n",
    "\n",
    "# SKIP the list representation!!!\n",
    "\n",
    "# Create a controlled example\n",
    "\n",
    "# Update the space\n",
    "csi_space = csi - csi2\n",
    "\n"
   ]
  },
  {
   "cell_type": "code",
   "execution_count": 58,
   "metadata": {},
   "outputs": [
    {
     "name": "stdout",
     "output_type": "stream",
     "text": [
      "[None, None, None, None, None]\n",
      "X1, X2, X3 ⊥  X4\n",
      "X2 ⊥  X4, X1=1, X3=1\n",
      "4\n",
      "Remove\n",
      "[None, {1}, None, {1}, None]\n",
      "From\n",
      "[None, None, None, None, None]\n",
      "[{1}, None, {1}, None]\n",
      "res\n",
      "[None, {0}, None, None, None, None]\n",
      "[None, {1}, None, {0}, None, None]\n",
      "4\n",
      "Remove\n",
      "[None, {1}, None, {1}, None]\n",
      "From\n",
      "[None, None, None, None, None]\n",
      "[{1}, None, {1}, None]\n",
      "[[None, {0}, None, None, None], [None, {1}, None, {0}, None]]\n"
     ]
    }
   ],
   "source": [
    "csi = ct.Stage([[0,1], [0, 1], [0,1]]).to_csi()\n",
    "print(csi.as_list()) # These have different encoding!! from the stages! These are for pairwise CSIs.\n",
    "csi2 = ct.Stage([1, [0, 1], 1]).to_csi()\n",
    "\n",
    "print(csi)\n",
    "print(csi2)\n",
    "\n",
    "res = csi - csi2\n",
    "print(\"res\")\n",
    "csis = [ct.csilist_to_csi_2(r) for r in res]\n",
    "for c in csis:\n",
    "    print(c.as_list())\n",
    "\n",
    "csi3 = ct.Stage([1, [0, 1], 1]).to_csi()\n",
    "res = csi - csi3\n",
    "print(res)\n"
   ]
  },
  {
   "cell_type": "code",
   "execution_count": 38,
   "metadata": {},
   "outputs": [
    {
     "data": {
      "text/plain": [
       "[2, 4, 1, 3]"
      ]
     },
     "execution_count": 38,
     "metadata": {},
     "output_type": "execute_result"
    }
   ],
   "source": [
    "a = [1,2,3,4]\n",
    "random.shuffle(a)\n",
    "a"
   ]
  }
 ],
 "metadata": {
  "kernelspec": {
   "display_name": "cstree_env",
   "language": "python",
   "name": "python3"
  },
  "language_info": {
   "codemirror_mode": {
    "name": "ipython",
    "version": 3
   },
   "file_extension": ".py",
   "mimetype": "text/x-python",
   "name": "python",
   "nbconvert_exporter": "python",
   "pygments_lexer": "ipython3",
   "version": "3.9.12"
  },
  "orig_nbformat": 4,
  "vscode": {
   "interpreter": {
    "hash": "e40745d7cc8d515702a8d40c3045bcc6e06a658c4521ba1195841f1515fd2c5c"
   }
  }
 },
 "nbformat": 4,
 "nbformat_minor": 2
}
