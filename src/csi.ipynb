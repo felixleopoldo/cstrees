{
 "cells": [
  {
   "cell_type": "code",
   "execution_count": 2,
   "metadata": {},
   "outputs": [
    {
     "name": "stdout",
     "output_type": "stream",
     "text": [
      "The autoreload extension is already loaded. To reload it, use:\n",
      "  %reload_ext autoreload\n"
     ]
    }
   ],
   "source": [
    "import time\n",
    "import pandas as pd\n",
    "import random\n",
    "import networkx as nx\n",
    "import numpy as np\n",
    "import cstrees.cstree as ct\n",
    "%load_ext autoreload\n",
    "%autoreload 2\n"
   ]
  },
  {
   "cell_type": "code",
   "execution_count": 274,
   "metadata": {},
   "outputs": [
    {
     "name": "stdout",
     "output_type": "stream",
     "text": [
      "[None, None, {1}, None, None]\n",
      "[None, {0}, None, {1}, None, {0}]\n",
      "X2, X4 ⊥  X6, X1=0, X3=1, X5=0\n",
      "X1, X2, X4 ⊥  X5, X3=1\n",
      "1 0\n",
      "before and after update with {3: 1}\n",
      "{1: 0}\n",
      "{1: 0, 3: 1}\n",
      "X1, X2, X4 ⊥  X5, X3=1\n",
      "3 1\n",
      "before and after update with {3: 1}\n",
      "{3: 1}\n",
      "{3: 1}\n",
      "X1, X2, X4 ⊥  X5, X3=1\n",
      "5 0\n",
      "before and after update with {3: 1}\n",
      "{5: 0}\n",
      "{5: 0, 3: 1}\n"
     ]
    }
   ],
   "source": [
    "p = 5\n",
    "\n",
    "np.random.seed(7)\n",
    "\n",
    "co = ct.CausalOrder(range(1, p+1))\n",
    "#tree = ct.CStree(co)\n",
    "cards = [2,3,2,2,2]\n",
    "\n",
    "s = ct.Stage([[0, 1], [0, 1, 2],  1, [0, 1]])\n",
    "csi = s.to_csi()\n",
    "#tree.set_cardinalities([None] + cards)\n",
    "\n",
    "csi_space = [csi]\n",
    "\n",
    "csilist2 = ct.sample_csi_restr_by_csi(csi, 2, cards)\n",
    "print(csilist2)\n",
    "\n",
    "csi2 = ct.csilist_to_csi_2(csilist2)\n",
    "print(csi2)\n",
    "\n",
    " # csis an stages have different list representations.\n",
    "\n",
    "# SKIP the list representation!!!\n",
    "\n",
    "# Update the space\n",
    "csi_space = csi - csi2\n",
    "\n"
   ]
  },
  {
   "cell_type": "code",
   "execution_count": 11,
   "metadata": {},
   "outputs": [
    {
     "data": {
      "text/plain": [
       "[2, 1, 4, 3]"
      ]
     },
     "execution_count": 11,
     "metadata": {},
     "output_type": "execute_result"
    }
   ],
   "source": [
    "a = [1,2,3,4]\n",
    "random.shuffle(a)\n",
    "a"
   ]
  }
 ],
 "metadata": {
  "kernelspec": {
   "display_name": "Python 3",
   "language": "python",
   "name": "python3"
  },
  "language_info": {
   "codemirror_mode": {
    "name": "ipython",
    "version": 3
   },
   "file_extension": ".py",
   "mimetype": "text/x-python",
   "name": "python",
   "nbconvert_exporter": "python",
   "pygments_lexer": "ipython3",
   "version": "3.11.2"
  },
  "orig_nbformat": 4,
  "vscode": {
   "interpreter": {
    "hash": "949777d72b0d2535278d3dc13498b2535136f6dfe0678499012e853ee9abcab1"
   }
  }
 },
 "nbformat": 4,
 "nbformat_minor": 2
}
