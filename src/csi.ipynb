{
 "cells": [
  {
   "cell_type": "code",
   "execution_count": 7,
   "metadata": {},
   "outputs": [],
   "source": [
    "import time\n",
    "import pandas as pd\n",
    "import random\n",
    "import networkx as nx\n",
    "import numpy as np\n",
    "import cstrees.cstree as ct\n",
    "%load_ext autoreload\n",
    "%autoreload 2\n"
   ]
  },
  {
   "cell_type": "code",
   "execution_count": 172,
   "metadata": {},
   "outputs": [
    {
     "name": "stdout",
     "output_type": "stream",
     "text": [
      "CStree with 0 nodes and 0 edges\n"
     ]
    }
   ],
   "source": [
    "p = 4\n",
    "cards = [2] * p\n",
    "t = ct.sample_cstree(cards, 3, 0.5, 0.8) \n",
    "# setting  cvar_prob to 1 give not the same as when trying insolated below, \n",
    "# its strange.\n",
    "print(t)"
   ]
  },
  {
   "cell_type": "code",
   "execution_count": null,
   "metadata": {},
   "outputs": [],
   "source": []
  },
  {
   "cell_type": "code",
   "execution_count": 5,
   "metadata": {},
   "outputs": [
    {
     "ename": "NameError",
     "evalue": "name 'ct' is not defined",
     "output_type": "error",
     "traceback": [
      "\u001b[0;31m---------------------------------------------------------------------------\u001b[0m",
      "\u001b[0;31mNameError\u001b[0m                                 Traceback (most recent call last)",
      "\u001b[1;32m/home/f/l/flrios/git/CStrees/src/csi.ipynb Cell 3\u001b[0m in \u001b[0;36m7\n\u001b[1;32m      <a href='vscode-notebook-cell:/home/f/l/flrios/git/CStrees/src/csi.ipynb#W2sZmlsZQ%3D%3D?line=2'>3</a>\u001b[0m \u001b[39m#np.random.seed(7)\u001b[39;00m\n\u001b[1;32m      <a href='vscode-notebook-cell:/home/f/l/flrios/git/CStrees/src/csi.ipynb#W2sZmlsZQ%3D%3D?line=3'>4</a>\u001b[0m \u001b[39m#random.seed(2)\u001b[39;00m\n\u001b[1;32m      <a href='vscode-notebook-cell:/home/f/l/flrios/git/CStrees/src/csi.ipynb#W2sZmlsZQ%3D%3D?line=5'>6</a>\u001b[0m cards \u001b[39m=\u001b[39m [\u001b[39m2\u001b[39m, \u001b[39m2\u001b[39m, \u001b[39m2\u001b[39m, \u001b[39m2\u001b[39m]\n\u001b[0;32m----> <a href='vscode-notebook-cell:/home/f/l/flrios/git/CStrees/src/csi.ipynb#W2sZmlsZQ%3D%3D?line=6'>7</a>\u001b[0m s \u001b[39m=\u001b[39m ct\u001b[39m.\u001b[39mStage([\u001b[39m0\u001b[39m, {\u001b[39m0\u001b[39m, \u001b[39m1\u001b[39m}, \u001b[39m1\u001b[39m, {\u001b[39m0\u001b[39m, \u001b[39m1\u001b[39m}])\n\u001b[1;32m      <a href='vscode-notebook-cell:/home/f/l/flrios/git/CStrees/src/csi.ipynb#W2sZmlsZQ%3D%3D?line=7'>8</a>\u001b[0m s \u001b[39m=\u001b[39m ct\u001b[39m.\u001b[39mStage([\u001b[39mset\u001b[39m(\u001b[39mrange\u001b[39m(cards[l])) \u001b[39mfor\u001b[39;00m l \u001b[39min\u001b[39;00m cards])\n\u001b[1;32m      <a href='vscode-notebook-cell:/home/f/l/flrios/git/CStrees/src/csi.ipynb#W2sZmlsZQ%3D%3D?line=8'>9</a>\u001b[0m \u001b[39mprint\u001b[39m(s)\n",
      "\u001b[0;31mNameError\u001b[0m: name 'ct' is not defined"
     ]
    }
   ],
   "source": [
    "p = 4\n",
    "\n",
    "#np.random.seed(7)\n",
    "#random.seed(2)\n",
    "\n",
    "cards = [2, 2, 2, 2]\n",
    "s = ct.Stage([0, {0, 1}, 1, {0, 1}])\n",
    "s = ct.Stage([set(range(cards[l])) for l in cards])\n",
    "print(s)\n",
    "\n",
    "stage = ct.sample_stage_restr_by_stage(s, 3, 1, cards)\n",
    "print(\"sample\")\n",
    "print(stage) # TODO: Make sure at least one is not int!!!\n",
    "print(stage.size())\n",
    "\n",
    "print(\"diff\")\n",
    "diff = s - stage\n",
    "for d in diff:\n",
    "    print(d)\n",
    "\n",
    "print(stage.to_df([0,1,2,3,4]))\n",
    "\n",
    "print(s.to_csi())\n",
    "print(stage.to_csi())\n"
   ]
  },
  {
   "cell_type": "code",
   "execution_count": 119,
   "metadata": {},
   "outputs": [
    {
     "name": "stdout",
     "output_type": "stream",
     "text": [
      "[{0, 1}, {0, 1}, {0, 1}]\n",
      "[1, {0, 1}, 1]\n",
      "Remove\n",
      "[1, {0, 1}, 1]\n",
      "From\n",
      "[{0, 1}, {0, 1}, {0, 1}]\n",
      "res\n",
      "[0, {0, 1}, {0, 1}]\n",
      "[1, {0, 1}, 0]\n",
      "Remove\n",
      "[1, {0, 1}, 0]\n",
      "From\n",
      "[1, {0, 1}, 0]\n",
      "res\n",
      "[0, {0, 1}, {0, 1}]\n",
      "[0, {0, 1}, {0, 1}]\n",
      "Remove\n",
      "[0, {0, 1}, 1]\n",
      "From\n",
      "[0, {0, 1}, {0, 1}]\n",
      "res\n",
      "[0, {0, 1}, 0]\n"
     ]
    }
   ],
   "source": [
    "stage = ct.Stage([{0, 1}, {0, 1}, {0, 1}])\n",
    "stage2 = ct.Stage([1, {0, 1}, 1]) # blue\n",
    "#stage = ct.Stage([{0, 1}, {0, 1},0, {0, 1}, 1])\n",
    "#stage2 = ct.Stage([1, {0, 1}, 0, 1, 1])\n",
    "#stage = ct.Stage([{0,1}, {0, 1}, 1])\n",
    "#stage2 = ct.Stage([{0,1}, 1, 1])\n",
    "\n",
    "print(stage)\n",
    "print(stage2)\n",
    "\n",
    "res = stage - stage2\n",
    "print(\"res\")\n",
    "for c in res:\n",
    "    print(c)\n",
    "\n",
    "base = res.pop(1)\n",
    "res += base - ct.Stage([1, {0, 1}, 0]) # orange\n",
    "print(\"res\")\n",
    "for r in res:\n",
    "    print(r)\n",
    "\n",
    "base = res.pop(0)\n",
    "print(base)\n",
    "res += base - ct.Stage([0, {0, 1}, 1]) # red\n",
    "\n",
    "print(\"res\")\n",
    "for r in res:\n",
    "    print(r)\n",
    "\n",
    "\n"
   ]
  },
  {
   "cell_type": "code",
   "execution_count": 38,
   "metadata": {},
   "outputs": [
    {
     "data": {
      "text/plain": [
       "[2, 4, 1, 3]"
      ]
     },
     "execution_count": 38,
     "metadata": {},
     "output_type": "execute_result"
    }
   ],
   "source": [
    "a = [1, 2, 3, 4]\n",
    "random.shuffle(a)\n",
    "a\n"
   ]
  }
 ],
 "metadata": {
  "kernelspec": {
   "display_name": "cstree_env",
   "language": "python",
   "name": "python3"
  },
  "language_info": {
   "codemirror_mode": {
    "name": "ipython",
    "version": 3
   },
   "file_extension": ".py",
   "mimetype": "text/x-python",
   "name": "python",
   "nbconvert_exporter": "python",
   "pygments_lexer": "ipython3",
   "version": "3.9.12"
  },
  "orig_nbformat": 4,
  "vscode": {
   "interpreter": {
    "hash": "e40745d7cc8d515702a8d40c3045bcc6e06a658c4521ba1195841f1515fd2c5c"
   }
  }
 },
 "nbformat": 4,
 "nbformat_minor": 2
}
