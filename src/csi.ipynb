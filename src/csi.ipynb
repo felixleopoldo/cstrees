{
 "cells": [
  {
   "cell_type": "code",
   "execution_count": 1,
   "metadata": {},
   "outputs": [],
   "source": [
    "import time\n",
    "import pandas as pd\n",
    "import random\n",
    "import networkx as nx\n",
    "import numpy as np\n",
    "import cstrees.cstree as ct\n",
    "%load_ext autoreload\n",
    "%autoreload 2\n"
   ]
  },
  {
   "cell_type": "code",
   "execution_count": 2,
   "metadata": {},
   "outputs": [
    {
     "name": "stdout",
     "output_type": "stream",
     "text": [
      "CStree with 0 nodes and 0 edges\n"
     ]
    }
   ],
   "source": [
    "p = 4\n",
    "cards = [2] * p\n",
    "t = ct.sample_cstree(cards, 3, 0.5, 0.8) \n",
    "# setting  cvar_prob to 1 give not the same as when trying insolated below, \n",
    "# its strange.\n",
    "print(t)"
   ]
  },
  {
   "cell_type": "code",
   "execution_count": 4,
   "metadata": {},
   "outputs": [
    {
     "name": "stdout",
     "output_type": "stream",
     "text": [
      "[{0, 1}, {0, 1}, {0, 1}]\n",
      "[1, {0, 1}, 1]\n",
      "res\n",
      "[0, {0, 1}, {0, 1}]\n",
      "[1, {0, 1}, 0]\n",
      "res\n",
      "[0, {0, 1}, {0, 1}]\n",
      "[0, {0, 1}, {0, 1}]\n",
      "res\n",
      "[0, {0, 1}, 0]\n"
     ]
    }
   ],
   "source": [
    "stage = ct.Stage([{0, 1}, {0, 1}, {0, 1}])\n",
    "stage2 = ct.Stage([1, {0, 1}, 1]) # blue\n",
    "#stage = ct.Stage([{0, 1}, {0, 1},0, {0, 1}, 1])\n",
    "#stage2 = ct.Stage([1, {0, 1}, 0, 1, 1])\n",
    "#stage = ct.Stage([{0,1}, {0, 1}, 1])\n",
    "#stage2 = ct.Stage([{0,1}, 1, 1])\n",
    "\n",
    "print(stage)\n",
    "print(stage2)\n",
    "\n",
    "res = stage - stage2\n",
    "print(\"res\")\n",
    "for c in res:\n",
    "    print(c)\n",
    "\n",
    "base = res.pop(1)\n",
    "res += base - ct.Stage([1, {0, 1}, 0]) # orange\n",
    "print(\"res\")\n",
    "for r in res:\n",
    "    print(r)\n",
    "\n",
    "base = res.pop(0)\n",
    "print(base)\n",
    "res += base - ct.Stage([0, {0, 1}, 1]) # red\n",
    "\n",
    "print(\"res\")\n",
    "for r in res:\n",
    "    print(r)\n",
    "\n",
    "\n"
   ]
  }
 ],
 "metadata": {
  "kernelspec": {
   "display_name": "cstree_env",
   "language": "python",
   "name": "python3"
  },
  "language_info": {
   "codemirror_mode": {
    "name": "ipython",
    "version": 3
   },
   "file_extension": ".py",
   "mimetype": "text/x-python",
   "name": "python",
   "nbconvert_exporter": "python",
   "pygments_lexer": "ipython3",
   "version": "3.9.12"
  },
  "orig_nbformat": 4,
  "vscode": {
   "interpreter": {
    "hash": "e40745d7cc8d515702a8d40c3045bcc6e06a658c4521ba1195841f1515fd2c5c"
   }
  }
 },
 "nbformat": 4,
 "nbformat_minor": 2
}
