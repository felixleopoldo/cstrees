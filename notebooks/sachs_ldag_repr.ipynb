{
 "cells": [
  {
   "cell_type": "code",
   "execution_count": 55,
   "id": "cb30bfe1-f462-4aad-9660-c120d5904da5",
   "metadata": {},
   "outputs": [
    {
     "name": "stdout",
     "output_type": "stream",
     "text": [
      "The autoreload extension is already loaded. To reload it, use:\n",
      "  %reload_ext autoreload\n"
     ]
    }
   ],
   "source": [
    "import sys\n",
    "import logging\n",
    "import random\n",
    "import time\n",
    "\n",
    "from causallearn.search.ConstraintBased.PC import pc\n",
    "from causallearn.utils.cit import chisq\n",
    "\n",
    "import pandas as pd\n",
    "import matplotlib.pyplot as plt\n",
    "import cstrees.cstree as ct\n",
    "import cstrees.scoring as sc\n",
    "import cstrees.stage as st\n",
    "import cstrees.learning as ctl\n",
    "import cstrees.ldag as ldag\n",
    "import networkx as nx\n",
    "import numpy as np\n",
    "import pp\n",
    "\n",
    "%load_ext autoreload\n",
    "%autoreload 2"
   ]
  },
  {
   "cell_type": "markdown",
   "id": "aada14c4-3ed3-4e1b-b641-273b38965440",
   "metadata": {},
   "source": [
    "### Example: Sachs"
   ]
  },
  {
   "cell_type": "code",
   "execution_count": 56,
   "id": "3baad6d3-2e1c-48ec-9c94-77815df91db3",
   "metadata": {},
   "outputs": [],
   "source": [
    "sachs = pd.read_csv('../data/sachs_obs_data.csv')"
   ]
  },
  {
   "cell_type": "code",
   "execution_count": 57,
   "id": "e99fc198-0ccc-4aaf-8f0d-673283d5775d",
   "metadata": {},
   "outputs": [],
   "source": [
    "# Binarize data and add a row at the top of the dataframe containing variable cardinalities\n",
    "sachsnp = sachs.to_numpy()\n",
    "\n",
    "sachs2 = np.zeros([len(sachs), len(list(sachs.columns))], int)\n",
    "\n",
    "for i in range(len(list(sachs.columns))):\n",
    "    sachs2[:,i] = pd.cut(sachsnp[:,i], 2, labels = False)\n",
    "    \n",
    "# add row with state space cardinalities\n",
    "sachs2states = np.zeros([len(sachs) + 1, len(list(sachs.columns))], int)\n",
    "sachs2states[0,:] = [2 for i in range(len(list(sachs.columns)))]\n",
    "for i in range(len(sachs)):\n",
    "    sachs2states[i+1,:] = sachs2[i,:]\n",
    "    \n",
    "sachsdf = pd.DataFrame(sachs2states, columns = list(sachs.columns))"
   ]
  },
  {
   "cell_type": "code",
   "execution_count": 58,
   "id": "45e65886-a4fe-456b-ac11-2bc036ce17da",
   "metadata": {},
   "outputs": [
    {
     "name": "stderr",
     "output_type": "stream",
     "text": [
      "Context score tables: 100%|██████████| 11/11 [00:00<00:00, 17.43it/s]\n",
      "Creating #stagings tables: 100%|██████████| 11/11 [00:00<00:00, 188.71it/s]\n",
      "Order score tables: 100%|██████████| 11/11 [01:15<00:00,  6.84s/it]\n",
      "Gibbs order sampler: 100%|██████████| 5000/5000 [00:00<00:00, 7099.77it/s]"
     ]
    },
    {
     "name": "stdout",
     "output_type": "stream",
     "text": [
      "Computation time in seconds: 76.70792698860168\n"
     ]
    },
    {
     "name": "stderr",
     "output_type": "stream",
     "text": [
      "\n"
     ]
    }
   ],
   "source": [
    "# We run without restricting the parent sets according to a CPDAG.\n",
    "# To run with this restriction uncomment the following:\n",
    "# pcgraph = pc(sachsdf[1:].values, 0.9, \"chisq\", node_names=sachsdf.columns)\n",
    "# poss_cvars = ctl.causallearn_graph_to_posscvars(pcgraph, labels=sachsdf.columns)\n",
    "# print(\"Possible context variables per node:\", poss_cvars)\n",
    "\n",
    "start = time.time()\n",
    "score_table, context_scores, context_counts = sc.order_score_tables(sachsdf,\n",
    "                                                                    max_cvars=2,\n",
    "                                                                    alpha_tot=1.0,\n",
    "                                                                    method=\"BDeu\",\n",
    "                                                                    poss_cvars=None)\n",
    "\n",
    "orders, scores = ctl.gibbs_order_sampler(5000, score_table)\n",
    "end = time.time()\n",
    "print('Computation time in seconds:', end - start)"
   ]
  },
  {
   "cell_type": "code",
   "execution_count": 59,
   "id": "4a50b757-8366-4566-944c-bac9210e0262",
   "metadata": {},
   "outputs": [
    {
     "name": "stdout",
     "output_type": "stream",
     "text": [
      "['Mek', 'PIP3', 'PLCg', 'Raf', 'JNK', 'PIP2', 'PKA', 'PKC', 'Akt', 'Erk', 'p38']\n"
     ]
    }
   ],
   "source": [
    "# optimal variable ordering\n",
    "sachsmaporder = orders[scores.index(max(scores))]\n",
    "print(sachsmaporder)"
   ]
  },
  {
   "cell_type": "code",
   "execution_count": 60,
   "id": "c318a7d9-7926-4dc6-a8a7-d41d295f01d3",
   "metadata": {},
   "outputs": [],
   "source": [
    "# get optimal tree for ordering\n",
    "sachsopttree = ctl._optimal_cstree_given_order(sachsmaporder, context_scores)\n"
   ]
  },
  {
   "cell_type": "code",
   "execution_count": 61,
   "id": "8ecd8ffb-d221-4a1b-b1c0-958799a7b1cd",
   "metadata": {},
   "outputs": [
    {
     "data": {
      "image/svg+xml": [
       "<?xml version=\"1.0\" encoding=\"UTF-8\" standalone=\"no\"?>\n",
       "<!DOCTYPE svg PUBLIC \"-//W3C//DTD SVG 1.1//EN\"\n",
       " \"http://www.w3.org/Graphics/SVG/1.1/DTD/svg11.dtd\">\n",
       "<!-- Generated by graphviz version 2.50.0 (0)\n",
       " -->\n",
       "<!-- Pages: 1 -->\n",
       "<svg width=\"525pt\" height=\"510pt\"\n",
       " viewBox=\"0.00 0.00 524.54 509.78\" xmlns=\"http://www.w3.org/2000/svg\" xmlns:xlink=\"http://www.w3.org/1999/xlink\">\n",
       "<g id=\"graph0\" class=\"graph\" transform=\"scale(1 1) rotate(0) translate(4 505.78)\">\n",
       "<polygon fill=\"white\" stroke=\"transparent\" points=\"-4,4 -4,-505.78 520.54,-505.78 520.54,4 -4,4\"/>\n",
       "<!-- Mek -->\n",
       "<g id=\"node1\" class=\"node\">\n",
       "<title>Mek</title>\n",
       "<ellipse fill=\"none\" stroke=\"black\" cx=\"27.5\" cy=\"-317.18\" rx=\"27.5\" ry=\"18\"/>\n",
       "<text text-anchor=\"middle\" x=\"27.5\" y=\"-313.48\" font-family=\"Times,serif\" font-size=\"14.00\">Mek</text>\n",
       "</g>\n",
       "<!-- Raf -->\n",
       "<g id=\"node2\" class=\"node\">\n",
       "<title>Raf</title>\n",
       "<ellipse fill=\"none\" stroke=\"black\" cx=\"27.5\" cy=\"-184.6\" rx=\"27\" ry=\"18\"/>\n",
       "<text text-anchor=\"middle\" x=\"27.5\" y=\"-180.9\" font-family=\"Times,serif\" font-size=\"14.00\">Raf</text>\n",
       "</g>\n",
       "<!-- Mek&#45;&gt;Raf -->\n",
       "<g id=\"edge1\" class=\"edge\">\n",
       "<title>Mek&#45;&gt;Raf</title>\n",
       "<path fill=\"none\" stroke=\"black\" d=\"M27.5,-299.02C27.5,-276.83 27.5,-239.03 27.5,-212.99\"/>\n",
       "<polygon fill=\"black\" stroke=\"black\" points=\"31,-212.96 27.5,-202.96 24,-212.96 31,-212.96\"/>\n",
       "</g>\n",
       "<!-- PKA -->\n",
       "<g id=\"node3\" class=\"node\">\n",
       "<title>PKA</title>\n",
       "<ellipse fill=\"none\" stroke=\"black\" cx=\"99.17\" cy=\"-428.71\" rx=\"28.7\" ry=\"18\"/>\n",
       "<text text-anchor=\"middle\" x=\"99.17\" y=\"-425.01\" font-family=\"Times,serif\" font-size=\"14.00\">PKA</text>\n",
       "</g>\n",
       "<!-- Raf&#45;&gt;PKA -->\n",
       "<g id=\"edge2\" class=\"edge\">\n",
       "<title>Raf&#45;&gt;PKA</title>\n",
       "<path fill=\"none\" stroke=\"black\" d=\"M32.77,-202.55C45.17,-244.78 76.26,-350.67 91.08,-401.13\"/>\n",
       "<polygon fill=\"black\" stroke=\"black\" points=\"87.72,-402.12 93.9,-410.73 94.44,-400.15 87.72,-402.12\"/>\n",
       "<text text-anchor=\"middle\" x=\"74.42\" y=\"-305.64\" font-family=\"Times,serif\" font-size=\"14.00\">[[0]]</text>\n",
       "</g>\n",
       "<!-- Akt -->\n",
       "<g id=\"node4\" class=\"node\">\n",
       "<title>Akt</title>\n",
       "<ellipse fill=\"none\" stroke=\"black\" cx=\"219.77\" cy=\"-483.78\" rx=\"27\" ry=\"18\"/>\n",
       "<text text-anchor=\"middle\" x=\"219.77\" y=\"-480.08\" font-family=\"Times,serif\" font-size=\"14.00\">Akt</text>\n",
       "</g>\n",
       "<!-- PKA&#45;&gt;Akt -->\n",
       "<g id=\"edge3\" class=\"edge\">\n",
       "<title>PKA&#45;&gt;Akt</title>\n",
       "<path fill=\"none\" stroke=\"black\" d=\"M122.42,-439.33C141.1,-447.85 167.5,-459.91 188.11,-469.32\"/>\n",
       "<polygon fill=\"black\" stroke=\"black\" points=\"186.85,-472.59 197.4,-473.57 189.76,-466.23 186.85,-472.59\"/>\n",
       "</g>\n",
       "<!-- Erk -->\n",
       "<g id=\"node9\" class=\"node\">\n",
       "<title>Erk</title>\n",
       "<ellipse fill=\"none\" stroke=\"black\" cx=\"350.99\" cy=\"-464.91\" rx=\"27\" ry=\"18\"/>\n",
       "<text text-anchor=\"middle\" x=\"350.99\" y=\"-461.21\" font-family=\"Times,serif\" font-size=\"14.00\">Erk</text>\n",
       "</g>\n",
       "<!-- Akt&#45;&gt;Erk -->\n",
       "<g id=\"edge8\" class=\"edge\">\n",
       "<title>Akt&#45;&gt;Erk</title>\n",
       "<path fill=\"none\" stroke=\"black\" d=\"M246.32,-479.96C265.89,-477.15 292.74,-473.29 314.35,-470.18\"/>\n",
       "<polygon fill=\"black\" stroke=\"black\" points=\"315.08,-473.61 324.48,-468.73 314.09,-466.68 315.08,-473.61\"/>\n",
       "</g>\n",
       "<!-- PIP3 -->\n",
       "<g id=\"node5\" class=\"node\">\n",
       "<title>PIP3</title>\n",
       "<ellipse fill=\"none\" stroke=\"black\" cx=\"219.77\" cy=\"-18\" rx=\"28\" ry=\"18\"/>\n",
       "<text text-anchor=\"middle\" x=\"219.77\" y=\"-14.3\" font-family=\"Times,serif\" font-size=\"14.00\">PIP3</text>\n",
       "</g>\n",
       "<!-- PIP2 -->\n",
       "<g id=\"node6\" class=\"node\">\n",
       "<title>PIP2</title>\n",
       "<ellipse fill=\"none\" stroke=\"black\" cx=\"99.17\" cy=\"-73.07\" rx=\"28\" ry=\"18\"/>\n",
       "<text text-anchor=\"middle\" x=\"99.17\" y=\"-69.37\" font-family=\"Times,serif\" font-size=\"14.00\">PIP2</text>\n",
       "</g>\n",
       "<!-- PIP3&#45;&gt;PIP2 -->\n",
       "<g id=\"edge4\" class=\"edge\">\n",
       "<title>PIP3&#45;&gt;PIP2</title>\n",
       "<path fill=\"none\" stroke=\"black\" d=\"M196.8,-28.49C178.28,-36.95 152,-48.95 131.38,-58.37\"/>\n",
       "<polygon fill=\"black\" stroke=\"black\" points=\"129.7,-55.29 122.05,-62.62 132.6,-61.66 129.7,-55.29\"/>\n",
       "</g>\n",
       "<!-- PIP2&#45;&gt;PKA -->\n",
       "<g id=\"edge5\" class=\"edge\">\n",
       "<title>PIP2&#45;&gt;PKA</title>\n",
       "<path fill=\"none\" stroke=\"black\" d=\"M99.17,-91.2C99.17,-149.11 99.17,-329.96 99.17,-400.31\"/>\n",
       "<polygon fill=\"black\" stroke=\"black\" points=\"95.68,-400.62 99.17,-410.62 102.68,-400.62 95.68,-400.62\"/>\n",
       "</g>\n",
       "<!-- PLCg -->\n",
       "<g id=\"node7\" class=\"node\">\n",
       "<title>PLCg</title>\n",
       "<ellipse fill=\"none\" stroke=\"black\" cx=\"350.99\" cy=\"-36.87\" rx=\"31.4\" ry=\"18\"/>\n",
       "<text text-anchor=\"middle\" x=\"350.99\" y=\"-33.17\" font-family=\"Times,serif\" font-size=\"14.00\">PLCg</text>\n",
       "</g>\n",
       "<!-- PLCg&#45;&gt;PIP2 -->\n",
       "<g id=\"edge6\" class=\"edge\">\n",
       "<title>PLCg&#45;&gt;PIP2</title>\n",
       "<path fill=\"none\" stroke=\"black\" d=\"M320.62,-41.23C274.45,-47.87 186.72,-60.49 136.66,-67.68\"/>\n",
       "<polygon fill=\"black\" stroke=\"black\" points=\"135.98,-64.25 126.58,-69.13 136.98,-71.17 135.98,-64.25\"/>\n",
       "<text text-anchor=\"middle\" x=\"216.14\" y=\"-58.26\" font-family=\"Times,serif\" font-size=\"14.00\">[[0]]</text>\n",
       "</g>\n",
       "<!-- JNK -->\n",
       "<g id=\"node8\" class=\"node\">\n",
       "<title>JNK</title>\n",
       "<ellipse fill=\"none\" stroke=\"black\" cx=\"451.19\" cy=\"-123.69\" rx=\"27\" ry=\"18\"/>\n",
       "<text text-anchor=\"middle\" x=\"451.19\" y=\"-119.99\" font-family=\"Times,serif\" font-size=\"14.00\">JNK</text>\n",
       "</g>\n",
       "<!-- PLCg&#45;&gt;JNK -->\n",
       "<g id=\"edge7\" class=\"edge\">\n",
       "<title>PLCg&#45;&gt;JNK</title>\n",
       "<path fill=\"none\" stroke=\"black\" d=\"M368.45,-51.99C384.59,-65.98 408.74,-86.9 426.79,-102.54\"/>\n",
       "<polygon fill=\"black\" stroke=\"black\" points=\"424.75,-105.4 434.6,-109.31 429.34,-100.12 424.75,-105.4\"/>\n",
       "</g>\n",
       "<!-- p38 -->\n",
       "<g id=\"node10\" class=\"node\">\n",
       "<title>p38</title>\n",
       "<ellipse fill=\"none\" stroke=\"black\" cx=\"451.19\" cy=\"-378.09\" rx=\"27\" ry=\"18\"/>\n",
       "<text text-anchor=\"middle\" x=\"451.19\" y=\"-374.39\" font-family=\"Times,serif\" font-size=\"14.00\">p38</text>\n",
       "</g>\n",
       "<!-- Erk&#45;&gt;p38 -->\n",
       "<g id=\"edge9\" class=\"edge\">\n",
       "<title>Erk&#45;&gt;p38</title>\n",
       "<path fill=\"none\" stroke=\"black\" d=\"M367.54,-450.58C383.64,-436.63 408.29,-415.26 426.67,-399.34\"/>\n",
       "<polygon fill=\"black\" stroke=\"black\" points=\"429.36,-401.64 434.62,-392.45 424.77,-396.35 429.36,-401.64\"/>\n",
       "<text text-anchor=\"middle\" x=\"384.6\" y=\"-428.76\" font-family=\"Times,serif\" font-size=\"14.00\">[[0]]</text>\n",
       "</g>\n",
       "<!-- PKC -->\n",
       "<g id=\"node11\" class=\"node\">\n",
       "<title>PKC</title>\n",
       "<ellipse fill=\"none\" stroke=\"black\" cx=\"488.54\" cy=\"-250.89\" rx=\"28\" ry=\"18\"/>\n",
       "<text text-anchor=\"middle\" x=\"488.54\" y=\"-247.19\" font-family=\"Times,serif\" font-size=\"14.00\">PKC</text>\n",
       "</g>\n",
       "<!-- PKC&#45;&gt;p38 -->\n",
       "<g id=\"edge10\" class=\"edge\">\n",
       "<title>PKC&#45;&gt;p38</title>\n",
       "<path fill=\"none\" stroke=\"black\" d=\"M483.34,-268.58C477.13,-289.72 466.67,-325.37 459.37,-350.23\"/>\n",
       "<polygon fill=\"black\" stroke=\"black\" points=\"455.92,-349.57 456.46,-360.15 462.64,-351.54 455.92,-349.57\"/>\n",
       "</g>\n",
       "</g>\n",
       "</svg>\n"
      ],
      "text/plain": [
       "<AGraph <Swig Object of type 'Agraph_t *' at 0x14d864690>>"
      ]
     },
     "execution_count": 61,
     "metadata": {},
     "output_type": "execute_result"
    }
   ],
   "source": [
    "# Print the LDAG representation of the learned CStree model:\n",
    "agraph = ldag.plot_LDAG(sachsopttree, varorder=sachsmaporder, \n",
    "                        graphviz_args=\"-Goneblock=True\",\n",
    "                        graphviz_prog=\"circo\")\n",
    "agraph\n",
    "#agraph.draw('sachs_CStree_LDAG.png')\n"
   ]
  }
 ],
 "metadata": {
  "kernelspec": {
   "display_name": "Python 3 (ipykernel)",
   "language": "python",
   "name": "python3"
  },
  "language_info": {
   "codemirror_mode": {
    "name": "ipython",
    "version": 3
   },
   "file_extension": ".py",
   "mimetype": "text/x-python",
   "name": "python",
   "nbconvert_exporter": "python",
   "pygments_lexer": "ipython3",
   "version": "3.11.3"
  }
 },
 "nbformat": 4,
 "nbformat_minor": 5
}
